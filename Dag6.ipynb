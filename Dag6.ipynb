{
 "cells": [
  {
   "cell_type": "markdown",
   "metadata": {},
   "source": [
    "# Imports"
   ]
  },
  {
   "cell_type": "code",
   "execution_count": 1,
   "metadata": {},
   "outputs": [],
   "source": [
    "import re"
   ]
  },
  {
   "cell_type": "markdown",
   "metadata": {},
   "source": [
    "# Data"
   ]
  },
  {
   "cell_type": "code",
   "execution_count": 2,
   "metadata": {},
   "outputs": [],
   "source": [
    "bestand = r'.\\data\\dag6.txt'\n",
    "\n",
    "with open(bestand, 'r') as file:\n",
    "    data = (file\n",
    "            .read()\n",
    "            .splitlines()\n",
    "            )\n",
    "    \n"
   ]
  },
  {
   "cell_type": "markdown",
   "metadata": {},
   "source": [
    "# Dag 6.1"
   ]
  },
  {
   "cell_type": "code",
   "execution_count": 3,
   "metadata": {},
   "outputs": [],
   "source": [
    "def find_initial_coordinate(data):\n",
    "    row_numnber = 0\n",
    "    col_number = 0\n",
    "    for row_number in range(0,len(data)):\n",
    "        for col_number in range(0,len(data[row_number])):\n",
    "            if len(re.findall(\"[<>v^]\", data[row_number][col_number])) > 0:\n",
    "                inital_coordinates = (row_number, col_number)\n",
    "    return inital_coordinates"
   ]
  },
  {
   "cell_type": "code",
   "execution_count": 4,
   "metadata": {},
   "outputs": [],
   "source": [
    "def determine_look_direction(data, coordinates):\n",
    "    direction_looking =''\n",
    "    if data[coordinates[0]][coordinates[1]] == '^':\n",
    "        direction_looking = 'up'\n",
    "\n",
    "    elif data[coordinates[0]][coordinates[1]] == '>':\n",
    "        direction_looking = 'right'\n",
    "\n",
    "    elif data[coordinates[0]][coordinates[1]] == 'v':\n",
    "        direction_looking = 'down'\n",
    "\n",
    "    elif data[coordinates[0]][coordinates[1]] == '<':\n",
    "        direction_looking = 'left'\n",
    "\n",
    "    else:\n",
    "        raise Exception('coordinates are wrong, no looking position')\n",
    "    \n",
    "    new_data = data.copy()\n",
    "    new_data[coordinates[0]] = re.sub(\"[<>v^]\",'.',new_data[coordinates[0]])\n",
    "\n",
    "    return new_data, direction_looking"
   ]
  },
  {
   "cell_type": "code",
   "execution_count": 5,
   "metadata": {},
   "outputs": [],
   "source": [
    "def found_the_escape(data, coordinates, direction_looking):\n",
    "    number_col = len(data[0])\n",
    "    number_row = len(data)\n",
    "    found_escape = False\n",
    "\n",
    "    if (coordinates[0]==0) & (direction_looking == 'up'):\n",
    "        found_escape = True\n",
    "    \n",
    "    if (coordinates[0]==number_row-1) & (direction_looking == 'down'):\n",
    "        found_escape = True\n",
    "\n",
    "    if (coordinates[1]==0) & (direction_looking == 'left'):\n",
    "        found_escape = True\n",
    "    \n",
    "    if (coordinates[1]==number_col-1) & (direction_looking == 'right'):\n",
    "        found_escape = True\n",
    "    \n",
    "    return found_escape\n",
    "    \n",
    "\n",
    "    \n",
    "\n"
   ]
  },
  {
   "cell_type": "code",
   "execution_count": 6,
   "metadata": {},
   "outputs": [],
   "source": [
    "def define_direction(direction_looking):\n",
    "    row_direction = 0\n",
    "    col_direction = 0\n",
    "    if direction_looking == 'up':\n",
    "        row_direction = -1\n",
    "    elif direction_looking == 'down':\n",
    "        row_direction = 1\n",
    "    elif direction_looking == 'right':\n",
    "        col_direction = 1\n",
    "    elif direction_looking == 'left':\n",
    "        col_direction = -1\n",
    "\n",
    "    return row_direction, col_direction\n",
    "\n",
    "def walk_as_far_as_posible(data, standing_ad_cooridinates, direction_looking, list_of_visits_including_facing, list_of_visits):\n",
    "    row_direction, col_direction = define_direction(direction_looking)\n",
    "    row = standing_ad_cooridinates[0]\n",
    "    col = standing_ad_cooridinates[1]\n",
    "    boundary_or_end_found = False\n",
    "    in_loop = False\n",
    "\n",
    "    i = 1\n",
    "    j = 1\n",
    "    while boundary_or_end_found == False:\n",
    "        next_row = row+row_direction*i\n",
    "        next_col = col+col_direction*j\n",
    "        \n",
    "        if (next_row < 0) | (next_col < 0):\n",
    "            boundary_or_end_found == True\n",
    "            break\n",
    "\n",
    "        try:\n",
    "            element_next = data[next_row][next_col]\n",
    "        except:\n",
    "            boundary_or_end_found == True\n",
    "            break\n",
    "        \n",
    "        if element_next == '.':\n",
    "            if (next_row, next_col) not in list_of_visits:\n",
    "                list_of_visits.append((next_row, next_col))\n",
    "            if (next_row, next_col, direction_looking) not in list_of_visits_including_facing:\n",
    "                list_of_visits_including_facing.append((next_row, next_col, direction_looking))\n",
    "            else:\n",
    "                in_loop = True\n",
    "                break\n",
    "            i += 1\n",
    "            j += 1\n",
    "        elif element_next == '#':\n",
    "            boundary_or_end_found = True\n",
    "\n",
    "    \n",
    "    new_coordinates = (row+row_direction*(i-1), col+col_direction*(j-1))  \n",
    "\n",
    "    return list_of_visits_including_facing, list_of_visits, new_coordinates, in_loop"
   ]
  },
  {
   "cell_type": "code",
   "execution_count": 7,
   "metadata": {},
   "outputs": [],
   "source": [
    "def turn(direction_looking):\n",
    "    new_direction_looking = ''\n",
    "    if direction_looking == 'up':\n",
    "        new_direction_looking = 'right'\n",
    "    elif direction_looking == 'right':\n",
    "        new_direction_looking = 'down'\n",
    "    elif direction_looking == 'down':\n",
    "        new_direction_looking = 'left'\n",
    "    elif direction_looking == 'left':\n",
    "        new_direction_looking = 'up'\n",
    "    \n",
    "    return new_direction_looking"
   ]
  },
  {
   "cell_type": "code",
   "execution_count": 15,
   "metadata": {},
   "outputs": [],
   "source": [
    "def walk_and_count(data):\n",
    "    standing_ad_cooridinates = find_initial_coordinate(data)\n",
    "    data, direction_looking = determine_look_direction(data, standing_ad_cooridinates)\n",
    "    found_escape = False\n",
    "    list_of_visits = [standing_ad_cooridinates]\n",
    "    list_of_visits_including_facing =[standing_ad_cooridinates + (direction_looking,)] \n",
    "    in_loop = False\n",
    "\n",
    "    while (found_escape == False | in_loop == False):\n",
    "        list_of_visits_including_facing, list_of_visits, standing_ad_cooridinates, in_loop = (\n",
    "            walk_as_far_as_posible(\n",
    "                data, \n",
    "                standing_ad_cooridinates, \n",
    "                direction_looking, \n",
    "                list_of_visits_including_facing,\n",
    "                list_of_visits\n",
    "                )\n",
    "        )\n",
    "        found_escape = found_the_escape(data, standing_ad_cooridinates, direction_looking)\n",
    "        if found_escape == False:\n",
    "            direction_looking = turn(direction_looking)\n",
    "    \n",
    "    number_of_visit_places = len(list_of_visits)\n",
    "    return number_of_visit_places, in_loop, list_of_visits"
   ]
  },
  {
   "cell_type": "code",
   "execution_count": 16,
   "metadata": {},
   "outputs": [
    {
     "data": {
      "text/plain": [
       "5086"
      ]
     },
     "execution_count": 16,
     "metadata": {},
     "output_type": "execute_result"
    }
   ],
   "source": [
    "number_of_visit_places, in_loop, list_of_visits = walk_and_count(data)\n",
    "number_of_visit_places"
   ]
  },
  {
   "cell_type": "markdown",
   "metadata": {},
   "source": [
    "# Dag 6.2"
   ]
  },
  {
   "cell_type": "code",
   "execution_count": 10,
   "metadata": {},
   "outputs": [],
   "source": [
    "def make_new_data(data,row_number, col_number):\n",
    "    new_data = data.copy()\n",
    "    possible = True\n",
    "    if len(re.findall(\"[<>v^#]\", data[row_number][col_number]))>0:\n",
    "           possible = False\n",
    "    new_data[row_number] = new_data[row_number][:col_number]+'#'+data[row_number][col_number+1:]\n",
    "    return new_data, possible"
   ]
  },
  {
   "cell_type": "code",
   "execution_count": 31,
   "metadata": {},
   "outputs": [],
   "source": [
    "def count_possible_obstakels(data):\n",
    "    total_inloop = 0\n",
    "    for item in list_of_visits:\n",
    "        row_number = item[0]\n",
    "        col_number = item[1]\n",
    "        new_data, possible = make_new_data(data, row_number, col_number)\n",
    "        if possible:\n",
    "            number_of_visits, in_loop, list_of_visits_ = walk_and_count(new_data)\n",
    "            if in_loop:\n",
    "                total_inloop += 1\n",
    "    return total_inloop      \n",
    "\n"
   ]
  },
  {
   "cell_type": "code",
   "execution_count": 32,
   "metadata": {},
   "outputs": [
    {
     "data": {
      "text/plain": [
       "1770"
      ]
     },
     "execution_count": 32,
     "metadata": {},
     "output_type": "execute_result"
    }
   ],
   "source": [
    "count_possible_obstakels(data)"
   ]
  }
 ],
 "metadata": {
  "kernelspec": {
   "display_name": "Python 3",
   "language": "python",
   "name": "python3"
  },
  "language_info": {
   "codemirror_mode": {
    "name": "ipython",
    "version": 3
   },
   "file_extension": ".py",
   "mimetype": "text/x-python",
   "name": "python",
   "nbconvert_exporter": "python",
   "pygments_lexer": "ipython3",
   "version": "undefined.undefined.undefined"
  }
 },
 "nbformat": 4,
 "nbformat_minor": 2
}
