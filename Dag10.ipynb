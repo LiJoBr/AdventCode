{
 "cells": [
  {
   "cell_type": "markdown",
   "metadata": {},
   "source": [
    "# Imports"
   ]
  },
  {
   "cell_type": "code",
   "execution_count": 204,
   "metadata": {},
   "outputs": [],
   "source": [
    "from collections import defaultdict\n",
    "from itertools import product\n",
    "import numpy as np"
   ]
  },
  {
   "cell_type": "markdown",
   "metadata": {},
   "source": [
    "# Data"
   ]
  },
  {
   "cell_type": "code",
   "execution_count": 205,
   "metadata": {},
   "outputs": [],
   "source": [
    "bestand = '.\\data\\dag10.txt'\n",
    "bestand_test = '.\\data\\\\voorbeeld10.txt'\n",
    "\n",
    "with open(bestand, 'r') as file:\n",
    "    grid = [[int(el) for el in x]  for x in [line.strip() for line in file.readlines()]]\n",
    "    \n",
    "with open(bestand_test, 'r') as file:\n",
    "    test_grid = [[int(el) for el in x]  for x in [line.strip() for line in file.readlines()]]"
   ]
  },
  {
   "cell_type": "code",
   "execution_count": 206,
   "metadata": {},
   "outputs": [],
   "source": [
    "def collect_all_paths_util(from_edge, to_edge, visited, path, graph):\n",
    "    visited[from_edge]= True\n",
    "    path.append(from_edge)\n",
    "    sum = 0\n",
    "\n",
    "    if from_edge == to_edge:\n",
    "        sum = 1\n",
    "    else:\n",
    "        for i in graph[from_edge]:\n",
    "            if visited[i] == False:\n",
    "                sum += collect_all_paths_util(i, to_edge, visited, path, graph)\n",
    "    path.pop()\n",
    "    visited[from_edge] = False\n",
    "    return sum"
   ]
  },
  {
   "cell_type": "code",
   "execution_count": 207,
   "metadata": {},
   "outputs": [],
   "source": [
    "def collect_all_paths(from_edge, to_edge, graph, n):\n",
    "    visited =[False]*(n*n)\n",
    "    path = []\n",
    "    return collect_all_paths_util(from_edge, to_edge, visited, path, graph)"
   ]
  },
  {
   "cell_type": "code",
   "execution_count": 208,
   "metadata": {},
   "outputs": [],
   "source": [
    "def create_graph(grid):\n",
    "    graph = defaultdict(list) \n",
    "    n = len(grid)\n",
    "    edge_numbers = np.array(range(n*n)).reshape(n,n)\n",
    "\n",
    "    for row,col in product(range(n),range(n)):\n",
    "        edge_number = int(edge_numbers[row][col])\n",
    "        for i in {-1, 1}:\n",
    "            if row+i in range(n):\n",
    "                if grid[row+i][col] - grid[row][col] == 1:\n",
    "                    to_edge = int(edge_numbers[row+i][col])\n",
    "                    graph[edge_number].append(to_edge)\n",
    "            if col+i in range(n):\n",
    "                if grid[row][col+i] - grid[row][col] == 1:\n",
    "                    to_edge = int(edge_numbers[row][col+i])\n",
    "                    graph[edge_number].append(to_edge)\n",
    "    return graph, edge_numbers, n\n"
   ]
  },
  {
   "cell_type": "code",
   "execution_count": 209,
   "metadata": {},
   "outputs": [],
   "source": [
    "def calculate(grid):\n",
    "    graph, edge_numbers, n = create_graph(grid)\n",
    "    zero_edges = [int(edge_numbers[row][col]) for row,col in product(range(n),range(n)) if grid[row][col] == 0]\n",
    "    nine_edges = [int(edge_numbers[row][col]) for row,col in product(range(n),range(n)) if grid[row][col] == 9]\n",
    "    sum_part1 = 0 \n",
    "    sum_part2 = 0\n",
    "    for to_edge in nine_edges:\n",
    "        for from_edge in zero_edges:\n",
    "            s = collect_all_paths(from_edge, to_edge, graph, n)\n",
    "            if s > 0:\n",
    "                sum_part1 += 1\n",
    "            sum_part2 += s\n",
    "    return sum_part1, sum_part2\n",
    "\n",
    "assert calculate(test_grid) == (36, 81)"
   ]
  },
  {
   "cell_type": "code",
   "execution_count": 210,
   "metadata": {},
   "outputs": [
    {
     "data": {
      "text/plain": [
       "(638, 1289)"
      ]
     },
     "execution_count": 210,
     "metadata": {},
     "output_type": "execute_result"
    }
   ],
   "source": [
    "calculate(grid)"
   ]
  }
 ],
 "metadata": {
  "kernelspec": {
   "display_name": "ab-riskmodel",
   "language": "python",
   "name": "python3"
  },
  "language_info": {
   "codemirror_mode": {
    "name": "ipython",
    "version": 3
   },
   "file_extension": ".py",
   "mimetype": "text/x-python",
   "name": "python",
   "nbconvert_exporter": "python",
   "pygments_lexer": "ipython3",
   "version": "3.11.10"
  }
 },
 "nbformat": 4,
 "nbformat_minor": 2
}
