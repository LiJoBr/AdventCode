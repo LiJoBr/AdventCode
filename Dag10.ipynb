{
 "cells": [
  {
   "cell_type": "markdown",
   "metadata": {},
   "source": [
    "# Imports"
   ]
  },
  {
   "cell_type": "code",
   "execution_count": 1,
   "metadata": {},
   "outputs": [],
   "source": [
    "# import pandas as pd\n",
    "import numpy as np\n",
    "# import math\n",
    "# import re"
   ]
  },
  {
   "cell_type": "markdown",
   "metadata": {},
   "source": [
    "# Data"
   ]
  },
  {
   "cell_type": "code",
   "execution_count": 2,
   "metadata": {},
   "outputs": [],
   "source": [
    "bestand = '.\\data\\dag10.txt'\n",
    "bestand_test = '.\\data\\\\voorbeeld10.txt'\n",
    "\n",
    "with open(bestand, 'r') as file:\n",
    "    grid = [[int(el) for el in x]  for x in [line.strip() for line in file.readlines()]]\n",
    "    \n",
    "with open(bestand_test, 'r') as file:\n",
    "    test_grid = [[int(el) for el in x]  for x in [line.strip() for line in file.readlines()]]"
   ]
  },
  {
   "cell_type": "markdown",
   "metadata": {},
   "source": [
    "# Deel 1"
   ]
  },
  {
   "cell_type": "code",
   "execution_count": 4,
   "metadata": {},
   "outputs": [
    {
     "data": {
      "text/plain": [
       "[[8, 9, 0, 1, 0, 1, 2, 3],\n",
       " [7, 8, 1, 2, 1, 8, 7, 4],\n",
       " [8, 7, 4, 3, 0, 9, 6, 5],\n",
       " [9, 6, 5, 4, 9, 8, 7, 4],\n",
       " [4, 5, 6, 7, 8, 9, 0, 3],\n",
       " [3, 2, 0, 1, 9, 0, 1, 2],\n",
       " [0, 1, 3, 2, 9, 8, 0, 1],\n",
       " [1, 0, 4, 5, 6, 7, 3, 2]]"
      ]
     },
     "execution_count": 4,
     "metadata": {},
     "output_type": "execute_result"
    }
   ],
   "source": [
    "test_grid"
   ]
  },
  {
   "cell_type": "code",
   "execution_count": 25,
   "metadata": {},
   "outputs": [
    {
     "data": {
      "text/plain": [
       "[(0, 2), (1, 2)]"
      ]
     },
     "execution_count": 25,
     "metadata": {},
     "output_type": "execute_result"
    }
   ],
   "source": [
    "find_path(0, 2, test_grid)"
   ]
  },
  {
   "cell_type": "code",
   "execution_count": 16,
   "metadata": {},
   "outputs": [
    {
     "data": {
      "text/plain": [
       "False"
      ]
     },
     "execution_count": 16,
     "metadata": {},
     "output_type": "execute_result"
    }
   ],
   "source": [
    "8 in range(len(test_grid))"
   ]
  },
  {
   "cell_type": "code",
   "execution_count": 31,
   "metadata": {},
   "outputs": [
    {
     "data": {
      "text/plain": [
       "True"
      ]
     },
     "execution_count": 31,
     "metadata": {},
     "output_type": "execute_result"
    }
   ],
   "source": [
    "(71,2) not in [(9,0), (1,2)]"
   ]
  },
  {
   "cell_type": "code",
   "execution_count": 47,
   "metadata": {},
   "outputs": [
    {
     "data": {
      "text/plain": [
       "[(0, 2), [(1, 2)]]"
      ]
     },
     "execution_count": 47,
     "metadata": {},
     "output_type": "execute_result"
    }
   ],
   "source": [
    "visits = []\n",
    "path, visits = find_a_path(0, 2, test_grid, visits)\n",
    "last_node = path.pop(-1)\n",
    "path\n",
    "# grid[last_node[0]][last_node[1]]\n",
    "# while grid[last_node[0]][last_node[1]] != 9:\n",
    "#     path, visits = find_a_path(path[-1][0], path[-1][1], visits) \n",
    "#     last_node = path.pop(-1)"
   ]
  },
  {
   "cell_type": "code",
   "execution_count": 39,
   "metadata": {},
   "outputs": [],
   "source": [
    "def find_a_path(row, col, grid, visits):\n",
    "    n_row = len(grid)\n",
    "    n_col = len(grid[0])\n",
    "    path = [(row, col)]\n",
    "    visits += [(row, col)]\n",
    "\n",
    "    if grid[row][col] < 9:\n",
    "        for i in {-1, 1}:\n",
    "            if (row+i in range(n_row))&  ((row+i, col) not in visits):\n",
    "                if grid[row][col] + 1 == grid[row+i][col]:\n",
    "                    path += find_a_path(row+i, col, grid, visits)\n",
    "            elif (col+i in range(n_col)) & ((row, col+i) not in visits):\n",
    "                if grid[row][col] + 1 == grid[row][col+i]:\n",
    "                    path += find_a_path(row, col+i, grid, visits)\n",
    "    return path, visits\n",
    "\n"
   ]
  },
  {
   "cell_type": "code",
   "execution_count": null,
   "metadata": {},
   "outputs": [],
   "source": [
    "def calculate(grid):\n",
    "    zeros = [[i for i, v in enumerate(l) if v == 0] for l in grid]\n",
    "\n",
    "\n",
    "assert calculate(test_grid) == 36"
   ]
  }
 ],
 "metadata": {
  "kernelspec": {
   "display_name": "ab-riskmodel",
   "language": "python",
   "name": "python3"
  },
  "language_info": {
   "codemirror_mode": {
    "name": "ipython",
    "version": 3
   },
   "file_extension": ".py",
   "mimetype": "text/x-python",
   "name": "python",
   "nbconvert_exporter": "python",
   "pygments_lexer": "ipython3",
   "version": "3.11.10"
  }
 },
 "nbformat": 4,
 "nbformat_minor": 2
}
