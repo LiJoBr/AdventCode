{
 "cells": [
  {
   "cell_type": "markdown",
   "metadata": {},
   "source": [
    "# Imports"
   ]
  },
  {
   "cell_type": "code",
   "execution_count": 44,
   "metadata": {},
   "outputs": [],
   "source": [
    "import pandas as pd\n",
    "import re"
   ]
  },
  {
   "cell_type": "markdown",
   "metadata": {},
   "source": [
    "# Data"
   ]
  },
  {
   "cell_type": "code",
   "execution_count": 45,
   "metadata": {},
   "outputs": [],
   "source": [
    "bestand = '.\\data\\dag4.txt'\n",
    "\n",
    "with open(bestand, 'r') as file:\n",
    "    text = (file\n",
    "            .read()\n",
    "            .splitlines()\n",
    "            )\n",
    "\n",
    "df = (\n",
    "    pd.DataFrame(text)[0]\n",
    "    .str.split('', expand=True)\n",
    ")\n"
   ]
  },
  {
   "cell_type": "markdown",
   "metadata": {},
   "source": [
    "# Dag 4.1"
   ]
  },
  {
   "cell_type": "code",
   "execution_count": 46,
   "metadata": {},
   "outputs": [
    {
     "data": {
      "text/plain": [
       "2642"
      ]
     },
     "execution_count": 46,
     "metadata": {},
     "output_type": "execute_result"
    }
   ],
   "source": [
    "def check_letter(df, col, index, letter):\n",
    "    letter_found = False\n",
    "    try:\n",
    "        if df[col][index] == letter:\n",
    "            letter_found = True\n",
    "    except:\n",
    "        pass\n",
    "    return letter_found\n",
    "\n",
    "def find_letter_around(df, col, index, letter):\n",
    "    options = []\n",
    "    letter_found = False\n",
    "    for i in {0,1,-1}:\n",
    "        for j in {0,1,-1}:\n",
    "            if i == j == 0:\n",
    "                pass\n",
    "            if check_letter(df, col+i, index+j,letter):\n",
    "                letter_found = True\n",
    "                options.append([i,j])\n",
    "\n",
    "    return letter_found, options\n",
    "\n",
    "def find_AS(df, option):\n",
    "    letterAS_found = False\n",
    "    found_a = check_letter(df, col+option[0]+option[0], index+option[1]+option[1], 'A')\n",
    "    if found_a:\n",
    "        found_s = check_letter(df, col+option[0]+option[0]+option[0], index+option[1]+option[1]+option[1], 'S')\n",
    "    else:\n",
    "        found_s = False\n",
    "    if found_s:\n",
    "        letterAS_found = True\n",
    "    \n",
    "    return letterAS_found\n",
    "\n",
    "foundXMAS = 0\n",
    "for index, row in df.iterrows():\n",
    "    for col in df.columns:\n",
    "        if check_letter(df, col, index, 'X'):\n",
    "            found_m, options = find_letter_around(df, col, index, 'M')\n",
    "            if found_m:\n",
    "                for item in options:\n",
    "                    if find_AS(df, item):\n",
    "                        foundXMAS +=1\n",
    "\n",
    "\n",
    "\n",
    "foundXMAS"
   ]
  },
  {
   "cell_type": "markdown",
   "metadata": {},
   "source": [
    "# Dag 4.2"
   ]
  },
  {
   "cell_type": "code",
   "execution_count": 47,
   "metadata": {},
   "outputs": [
    {
     "data": {
      "text/plain": [
       "1974"
      ]
     },
     "execution_count": 47,
     "metadata": {},
     "output_type": "execute_result"
    }
   ],
   "source": [
    "def findS(optie:list, col, index):\n",
    "    foundS = False\n",
    "    diagonal = True\n",
    "    if optie[0] == 0:\n",
    "        diagonal = False\n",
    "    if optie[1] == 0:\n",
    "        diagonal = False\n",
    "    if diagonal:\n",
    "        i = optie[0]*-1\n",
    "        j = optie[1]*-1\n",
    "        if check_letter(df, col+i, index+j, 'S'):\n",
    "            foundS = True\n",
    "    \n",
    "    return foundS    \n",
    "\n",
    "\n",
    "\n",
    "foundMAS = 0\n",
    "\n",
    "for index, row in df.iterrows():\n",
    "    for col in df.columns:\n",
    "        found_MAS = 0\n",
    "        if check_letter(df, col, index, 'A'):\n",
    "            found_m, options_m = find_letter_around(df, col, index, 'M')\n",
    "            if found_m:\n",
    "                for optie in options_m:\n",
    "                    if findS(optie, col, index):\n",
    "                        found_MAS +=1\n",
    "        if found_MAS ==2:\n",
    "            foundMAS+=1\n",
    "            \n",
    "foundMAS"
   ]
  }
 ],
 "metadata": {
  "kernelspec": {
   "display_name": "sunshine",
   "language": "python",
   "name": "python3"
  },
  "language_info": {
   "codemirror_mode": {
    "name": "ipython",
    "version": 3
   },
   "file_extension": ".py",
   "mimetype": "text/x-python",
   "name": "python",
   "nbconvert_exporter": "python",
   "pygments_lexer": "ipython3",
   "version": "3.11.5"
  }
 },
 "nbformat": 4,
 "nbformat_minor": 2
}
