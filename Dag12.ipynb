{
 "cells": [
  {
   "cell_type": "markdown",
   "metadata": {},
   "source": [
    "# Imports"
   ]
  },
  {
   "cell_type": "code",
   "execution_count": 3,
   "metadata": {},
   "outputs": [],
   "source": [
    "from collections import defaultdict\n",
    "from itertools import product\n",
    "import numpy as np"
   ]
  },
  {
   "cell_type": "markdown",
   "metadata": {},
   "source": [
    "# Data"
   ]
  },
  {
   "cell_type": "code",
   "execution_count": 4,
   "metadata": {},
   "outputs": [],
   "source": [
    "bestand = '.\\data\\dag12.txt'\n",
    "bestand_testa = '.\\data\\\\voorbeeld12a.txt'\n",
    "bestand_testb = '.\\data\\\\voorbeeld12b.txt'\n",
    "bestand_testc = '.\\data\\\\voorbeeld12c.txt'\n",
    "\n",
    "with open(bestand, 'r') as file:\n",
    "    grid = [[el for el in x]  for x in [line.strip() for line in file.readlines()]]\n",
    "    \n",
    "with open(bestand_testa, 'r') as file:\n",
    "    test_grida = [[el for el in x]  for x in [line.strip() for line in file.readlines()]]\n",
    "\n",
    "with open(bestand_testb, 'r') as file:\n",
    "    test_gridb = [[el for el in x]  for x in [line.strip() for line in file.readlines()]]\n",
    "\n",
    "with open(bestand_testc, 'r') as file:\n",
    "    test_gridc = [[el for el in x]  for x in [line.strip() for line in file.readlines()]]"
   ]
  },
  {
   "cell_type": "markdown",
   "metadata": {},
   "source": [
    "## Code"
   ]
  },
  {
   "cell_type": "code",
   "execution_count": 6,
   "metadata": {},
   "outputs": [],
   "source": [
    "def create_graph(grid):\n",
    "    graph = defaultdict(list) \n",
    "    n = len(grid)\n",
    "    edge_numbers = np.array(range(n*n)).reshape(n,n)\n",
    "    letters = defaultdict(list) \n",
    "\n",
    "    for row,col in product(range(n),range(n)):\n",
    "        edge_number = int(edge_numbers[row][col])\n",
    "        letters[grid[row][col]].append(edge_number)\n",
    "\n",
    "        for i in {-1, 1}:\n",
    "            if row+i in range(n):\n",
    "                if grid[row+i][col] == grid[row][col]:\n",
    "                    to_edge = int(edge_numbers[row+i][col])\n",
    "                    graph[edge_number].append(to_edge)\n",
    "            if col+i in range(n):\n",
    "                if grid[row][col+i] == grid[row][col] :\n",
    "                    to_edge = int(edge_numbers[row][col+i])\n",
    "                    graph[edge_number].append(to_edge)\n",
    "    return graph, edge_numbers, n, letters\n"
   ]
  },
  {
   "cell_type": "code",
   "execution_count": 94,
   "metadata": {},
   "outputs": [],
   "source": [
    "def find_area(graph, edge_number, visited):\n",
    "    area = (graph[edge_number]).copy()\n",
    "    area += [edge_number]\n",
    "    visited += [edge_number]\n",
    "    for edge in area:\n",
    "        if edge in visited:\n",
    "            pass\n",
    "        else:\n",
    "            visited += [edge]\n",
    "            area += find_area(graph, edge, visited)\n",
    "    area = list(dict.fromkeys(area))\n",
    "    return area\n",
    "    \n",
    "graph, edge_numbers, n, letters = create_graph(test_grida)\n",
    "assert find_area(graph, 0, []).sort() == [0,1,2,3,4, 5, 7, 9, 10, 11, 12, 13, 14, 15, 17, 19, 20, 21, 22, 23, 24].sort()\n",
    "assert find_area(graph, 24, []).sort() == [0,1,2,3,4, 5, 7, 9, 10, 11, 12, 13, 14, 15, 17, 19, 20, 21, 22, 23, 24].sort()\n",
    "graph, edge_numbers, n, letters = create_graph(test_gridb)\n",
    "assert find_area(graph, 0, []).sort() ==[0,1,2,3].sort()\n",
    "assert find_area(graph, 2, []).sort() ==[0,1,2,3].sort()\n",
    "assert find_area(graph, 7, []) == [7]"
   ]
  },
  {
   "cell_type": "code",
   "execution_count": 95,
   "metadata": {},
   "outputs": [],
   "source": [
    "def calculate_perimeter(graph, area):\n",
    "    perimeter = 0\n",
    "    for edge in area:\n",
    "        perimeter += (4 - len(graph[edge]))\n",
    "    return perimeter\n",
    "\n",
    "graph, edge_numbers, n, letters = create_graph(test_grida)\n",
    "area = [0,1,2,3,4, 5, 7, 9, 10, 11, 12, 13, 14, 15, 17, 19, 20, 21, 22, 23, 24]\n",
    "assert calculate_perimeter(graph, area) == 36\n",
    "graph, edge_numbers, n, letters = create_graph(test_gridb)\n",
    "assert calculate_perimeter(graph, [0,1,2,3]) == 10\n",
    "assert calculate_perimeter(graph, [4,5,8,9]) == 8"
   ]
  },
  {
   "cell_type": "code",
   "execution_count": 104,
   "metadata": {},
   "outputs": [
    {
     "name": "stdout",
     "output_type": "stream",
     "text": [
      "O\n",
      "X\n",
      "A\n",
      "B\n",
      "C\n",
      "D\n",
      "E\n",
      "R\n",
      "I\n",
      "C\n",
      "F\n",
      "V\n",
      "J\n",
      "E\n",
      "M\n",
      "S\n"
     ]
    }
   ],
   "source": [
    "def calculate_total_price(grid):\n",
    "    graph,edge_numbers, n, letters = create_graph(grid)\n",
    "    visited =[]\n",
    "    total_price = 0\n",
    "    for letter in letters:\n",
    "        for edge_number in letters[letter]:\n",
    "            if edge_number in visited:\n",
    "                pass\n",
    "            else:\n",
    "                area = find_area(graph, edge_number, visited)\n",
    "                visited += area\n",
    "                perimeter = calculate_perimeter(graph, area)\n",
    "                total_price += len(area) * perimeter\n",
    "    return total_price\n",
    "\n",
    "assert calculate_total_price(test_grida) == 772\n",
    "assert calculate_total_price(test_gridb) == 140\n",
    "assert calculate_total_price(test_gridc) == 1930\n",
    "\n"
   ]
  },
  {
   "cell_type": "code",
   "execution_count": 103,
   "metadata": {},
   "outputs": [
    {
     "data": {
      "text/plain": [
       "dict_keys(['Y', 'R', 'Z', 'I', 'P', 'G', 'K', 'F', 'S', 'J', 'O', 'C', 'N', 'D', 'U', 'E', 'V', 'W', 'X', 'M', 'Q', 'B', 'T', 'L', 'H', 'A'])"
      ]
     },
     "execution_count": 103,
     "metadata": {},
     "output_type": "execute_result"
    }
   ],
   "source": [
    "graph,edge_numbers, n, letters = create_graph(grid)\n",
    "letters.keys()"
   ]
  },
  {
   "cell_type": "code",
   "execution_count": 105,
   "metadata": {},
   "outputs": [
    {
     "name": "stdout",
     "output_type": "stream",
     "text": [
      "Y\n",
      "R\n",
      "Z\n",
      "I\n",
      "P\n",
      "G\n",
      "K\n",
      "F\n",
      "S\n",
      "J\n",
      "O\n",
      "C\n",
      "N\n",
      "D\n",
      "U\n",
      "E\n",
      "V\n",
      "W\n",
      "X\n",
      "M\n",
      "Q\n",
      "B\n",
      "T\n",
      "L\n",
      "H\n",
      "A\n"
     ]
    },
    {
     "data": {
      "text/plain": [
       "1374934"
      ]
     },
     "execution_count": 105,
     "metadata": {},
     "output_type": "execute_result"
    }
   ],
   "source": [
    "calculate_total_price(grid)"
   ]
  }
 ],
 "metadata": {
  "kernelspec": {
   "display_name": "ab-riskmodel",
   "language": "python",
   "name": "python3"
  },
  "language_info": {
   "codemirror_mode": {
    "name": "ipython",
    "version": 3
   },
   "file_extension": ".py",
   "mimetype": "text/x-python",
   "name": "python",
   "nbconvert_exporter": "python",
   "pygments_lexer": "ipython3",
   "version": "3.11.10"
  }
 },
 "nbformat": 4,
 "nbformat_minor": 2
}
