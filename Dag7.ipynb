{
 "cells": [
  {
   "cell_type": "markdown",
   "metadata": {},
   "source": [
    "# Imports"
   ]
  },
  {
   "cell_type": "code",
   "execution_count": null,
   "metadata": {},
   "outputs": [],
   "source": []
  },
  {
   "cell_type": "markdown",
   "metadata": {},
   "source": [
    "# Data"
   ]
  },
  {
   "cell_type": "code",
   "execution_count": null,
   "metadata": {},
   "outputs": [],
   "source": [
    "bestand = '.\\data\\dag7.txt'\n",
    "\n",
    "with open(bestand, 'r') as file:\n",
    "    data = (file\n",
    "            .read()\n",
    "            .splitlines()\n",
    "            )\n"
   ]
  },
  {
   "cell_type": "markdown",
   "metadata": {},
   "source": [
    "# Dag 7.1"
   ]
  },
  {
   "cell_type": "code",
   "execution_count": null,
   "metadata": {},
   "outputs": [],
   "source": [
    "def breakup_in_wanted_answer_numbers(line:str):\n",
    "    wanted_answer = int(line.split(':')[0])\n",
    "    numbers_as_string = line.split(\":\")[1].lstrip().split(' ')\n",
    "    numbers = list(map(int, numbers_as_string))\n",
    "    return wanted_answer, numbers\n",
    "\n",
    "#test\n",
    "wanted_answer, numbers = breakup_in_wanted_answer_numbers('190: 10 19')\n",
    "assert wanted_answer == 190\n",
    "assert numbers == [10, 19]"
   ]
  },
  {
   "cell_type": "code",
   "execution_count": null,
   "metadata": {},
   "outputs": [],
   "source": [
    "def possible_make_correct_answer(wanted_answer, numbers):\n",
    "    calculation_possible = False\n",
    "\n",
    "    if len(numbers) == 1:\n",
    "        calculation_possible =  wanted_answer == numbers[0]\n",
    "    elif len(numbers) == 2:\n",
    "        calculation_possible = (\n",
    "            (wanted_answer == numbers[0] + numbers[1]) |\n",
    "            (wanted_answer == numbers[0] * numbers[1])\n",
    "        )\n",
    "    else:\n",
    "        rest_numbers_first_two_summed = [numbers[0] + numbers[1]] + numbers[2:]\n",
    "        rest_numbers_first_two_multiplied = [numbers[0] * numbers[1]] + numbers[2:]\n",
    "        if possible_make_correct_answer(wanted_answer, rest_numbers_first_two_summed):\n",
    "            calculation_possible = True\n",
    "        else:\n",
    "            calculation_possible = possible_make_correct_answer(wanted_answer, rest_numbers_first_two_multiplied)\n",
    "\n",
    "    return calculation_possible\n",
    "    \n",
    "#test\n",
    "assert possible_make_correct_answer(190, [10, 19]) == True\n",
    "assert possible_make_correct_answer(1080, [40, 27]) == True\n",
    "assert possible_make_correct_answer(3267, [81, 40, 27]) == True\n",
    "assert possible_make_correct_answer(161011, [16, 10, 13]) == False\n",
    "assert possible_make_correct_answer(83, [17,5]) == False\n",
    "assert possible_make_correct_answer(156, [15,6]) == False\n",
    "assert possible_make_correct_answer(7290, [6, 8, 6, 15]) == False\n",
    "assert possible_make_correct_answer(192, [17, 8, 14]) == False\n",
    "assert possible_make_correct_answer(21037, [9, 7, 18, 13]) == False\n",
    "assert possible_make_correct_answer(292, [11, 6, 16, 20]) == True"
   ]
  },
  {
   "cell_type": "code",
   "execution_count": null,
   "metadata": {},
   "outputs": [],
   "source": [
    "def calculate_sum_of_correct_lines(data):\n",
    "    sum_result = 0\n",
    "    for line in data:\n",
    "        wanted_answer, numbers = breakup_in_wanted_answer_numbers(line)\n",
    "        if possible_make_correct_answer(wanted_answer, numbers):\n",
    "            sum_result += wanted_answer\n",
    "    return sum_result\n",
    "\n",
    "\n",
    "calculate_sum_of_correct_lines(data)"
   ]
  },
  {
   "cell_type": "markdown",
   "metadata": {},
   "source": [
    "# Dag 7.2"
   ]
  },
  {
   "cell_type": "code",
   "execution_count": null,
   "metadata": {},
   "outputs": [],
   "source": [
    "def possible_make_correct_answer_part2(wanted_answer, numbers):\n",
    "    calculation_possible = False\n",
    "\n",
    "    if len(numbers) == 1:\n",
    "        calculation_possible =  wanted_answer == numbers[0]\n",
    "    elif len(numbers) == 2:\n",
    "        calculation_possible = (\n",
    "            (wanted_answer == numbers[0] + numbers[1]) |\n",
    "            (wanted_answer == numbers[0] * numbers[1]) |\n",
    "            (wanted_answer == int(str(numbers[0]) + str(numbers[1])))\n",
    "        )\n",
    "    else:\n",
    "        rest_numbers_first_two_summed = [numbers[0] + numbers[1]] + numbers[2:]\n",
    "        rest_numbers_first_two_multiplied = [numbers[0] * numbers[1]] + numbers[2:]\n",
    "        rest_numbers_first_two_concat = [int(str(numbers[0]) + str(numbers[1]))] + numbers[2:]\n",
    "        if possible_make_correct_answer_part2(wanted_answer, rest_numbers_first_two_summed):\n",
    "            calculation_possible = True\n",
    "        elif possible_make_correct_answer_part2(wanted_answer, rest_numbers_first_two_multiplied):\n",
    "            calculation_possible = True\n",
    "        else:\n",
    "            calculation_possible = possible_make_correct_answer_part2(wanted_answer, rest_numbers_first_two_concat)\n",
    "\n",
    "    return calculation_possible\n",
    "    \n",
    "#test\n",
    "assert possible_make_correct_answer_part2(190, [10, 19]) == True\n",
    "assert possible_make_correct_answer_part2(1080, [40, 27]) == True\n",
    "assert possible_make_correct_answer_part2(3267, [81, 40, 27]) == True\n",
    "assert possible_make_correct_answer_part2(161011, [16, 10, 13]) == False\n",
    "assert possible_make_correct_answer_part2(83, [17,5]) == False\n",
    "assert possible_make_correct_answer_part2(156, [15,6]) == True\n",
    "assert possible_make_correct_answer_part2(7290, [6, 8, 6, 15]) == True\n",
    "assert possible_make_correct_answer_part2(192, [17, 8, 14]) == True\n",
    "assert possible_make_correct_answer_part2(21037, [9, 7, 18, 13]) == False\n",
    "assert possible_make_correct_answer_part2(292, [11, 6, 16, 20]) == True"
   ]
  },
  {
   "cell_type": "code",
   "execution_count": null,
   "metadata": {},
   "outputs": [],
   "source": [
    "def calculate_sum_of_correct_lines_part2(data):\n",
    "    sum_result = 0\n",
    "    for line in data:\n",
    "        wanted_answer, numbers = breakup_in_wanted_answer_numbers(line)\n",
    "        if possible_make_correct_answer_part2(wanted_answer, numbers):\n",
    "            sum_result += wanted_answer\n",
    "    return sum_result\n",
    "\n",
    "calculate_sum_of_correct_lines_part2(data)"
   ]
  }
 ],
 "metadata": {
  "kernelspec": {
   "display_name": "sunshine",
   "language": "python",
   "name": "python3"
  },
  "language_info": {
   "codemirror_mode": {
    "name": "ipython",
    "version": 3
   },
   "file_extension": ".py",
   "mimetype": "text/x-python",
   "name": "python",
   "nbconvert_exporter": "python",
   "pygments_lexer": "ipython3",
   "version": "3.11.5"
  }
 },
 "nbformat": 4,
 "nbformat_minor": 2
}
