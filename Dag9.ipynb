{
 "cells": [
  {
   "cell_type": "markdown",
   "metadata": {},
   "source": [
    "# Imports"
   ]
  },
  {
   "cell_type": "code",
   "execution_count": 14,
   "metadata": {},
   "outputs": [],
   "source": [
    "# import pandas as pd\n",
    "import numpy as np\n",
    "import math\n",
    "import re"
   ]
  },
  {
   "cell_type": "markdown",
   "metadata": {},
   "source": [
    "# Data"
   ]
  },
  {
   "cell_type": "code",
   "execution_count": 15,
   "metadata": {},
   "outputs": [],
   "source": [
    "bestand = '.\\data\\dag9.txt'\n",
    "bestand_test = '.\\data\\\\voorbeeld9.txt'\n",
    "\n",
    "with open(bestand, 'r') as file:\n",
    "    text = (file\n",
    "            .read()\n",
    "            )\n",
    "    \n",
    "with open(bestand_test, 'r') as file:\n",
    "    test_text = (file\n",
    "            .read()\n",
    "            )\n"
   ]
  },
  {
   "cell_type": "markdown",
   "metadata": {},
   "source": [
    "# Dag 9.1"
   ]
  },
  {
   "cell_type": "code",
   "execution_count": 16,
   "metadata": {},
   "outputs": [],
   "source": [
    "def create_blocks(text):\n",
    "    id = 0\n",
    "    s = []\n",
    "    for i in range(0,len(text),2):\n",
    "        s += list(np.repeat(id, int(text[i])))\n",
    "        try:\n",
    "            s += list(np.repeat('.', int(text[i+1])))\n",
    "        except:\n",
    "            pass\n",
    "        id += 1\n",
    "    return s\n",
    "\n",
    "   \n",
    "assert create_blocks('12345') == [0, '.', '.', 1, 1, 1, '.', '.', '.', '.', 2, 2, 2, 2, 2]\n",
    "assert create_blocks(test_text) == [0, 0, '.', '.', '.', 1, 1, 1,'.', '.', '.', 2, '.', '.', '.', 3, 3, 3, '.', 4, 4, '.', 5, 5, 5, 5, '.', 6, 6, 6, 6, '.', 7, 7, 7, '.', 8, 8, 8, 8, 9, 9]"
   ]
  },
  {
   "cell_type": "code",
   "execution_count": 17,
   "metadata": {},
   "outputs": [],
   "source": [
    "def move_file_blocks(individuel_blocks):\n",
    "    dot_indeces = [i for i,x in enumerate(individuel_blocks) if x=='.']\n",
    "    index_end = len(individuel_blocks) - 1\n",
    "    i = 0\n",
    "    aantal_indeces = len(dot_indeces)\n",
    "    \n",
    "    while i < aantal_indeces:\n",
    "        dot_index = dot_indeces[i]\n",
    "        if individuel_blocks[index_end] == '.':\n",
    "            individuel_blocks = individuel_blocks[:index_end]\n",
    "            index_end -= 1\n",
    "            aantal_indeces -= 1\n",
    "        else:\n",
    "            individuel_blocks[dot_index] = individuel_blocks[index_end]\n",
    "            individuel_blocks = individuel_blocks[:index_end]\n",
    "            index_end -= 1\n",
    "            i += 1\n",
    "    return individuel_blocks\n",
    "assert move_file_blocks([0, '.', '.', 1, 1, 1, '.', '.', '.', '.', 2, 2, 2, 2, 2]) == [0, 2, 2, 1, 1, 1, 2, 2, 2]\n",
    "assert move_file_blocks([0, 0, '.', '.', '.', 1, 1, 1,'.', '.', '.', 2, '.', '.', '.', 3, 3, 3, '.', 4, 4, '.', 5, 5, 5, 5, '.', 6, 6, 6, 6, '.', 7, 7, 7, '.', 8, 8, 8, 8, 9, 9]) == [0, 0, 9, 9, 8, 1, 1, 1, 8, 8, 8, 2, 7, 7, 7, 3, 3, 3, 6, 4, 4, 6, 5, 5, 5, 5, 6, 6]\n"
   ]
  },
  {
   "cell_type": "code",
   "execution_count": 18,
   "metadata": {},
   "outputs": [],
   "source": [
    "def calculate_checksum(ordered_blocks):\n",
    "    sum = 0\n",
    "    for i in range(len(ordered_blocks)):\n",
    "        sum += i * int(ordered_blocks[i])\n",
    "    return sum\n",
    "        \n",
    "assert calculate_checksum([0, 0, 9, 9, 8, 1, 1, 1, 8, 8, 8, 2, 7, 7, 7, 3, 3, 3, 6, 4, 4, 6, 5, 5, 5, 5, 6, 6]) == 1928"
   ]
  },
  {
   "cell_type": "code",
   "execution_count": 19,
   "metadata": {},
   "outputs": [],
   "source": [
    "def calculate_filesystem_checksum(text):\n",
    "    individuel_blocks = create_blocks(text)\n",
    "    ordered_blocks = move_file_blocks(individuel_blocks)\n",
    "    checksum = calculate_checksum(ordered_blocks)\n",
    "\n",
    "    return checksum\n",
    "\n",
    "assert calculate_filesystem_checksum(test_text) == 1928"
   ]
  },
  {
   "cell_type": "code",
   "execution_count": 20,
   "metadata": {},
   "outputs": [
    {
     "data": {
      "text/plain": [
       "6359213660505"
      ]
     },
     "execution_count": 20,
     "metadata": {},
     "output_type": "execute_result"
    }
   ],
   "source": [
    "calculate_filesystem_checksum(text)"
   ]
  },
  {
   "cell_type": "markdown",
   "metadata": {},
   "source": [
    "# Dag 9.2"
   ]
  },
  {
   "cell_type": "code",
   "execution_count": 69,
   "metadata": {},
   "outputs": [],
   "source": [
    "def create_blocks_2(text):\n",
    "    id = 0\n",
    "    s = []\n",
    "    for i in range(0,len(text),2):\n",
    "        s += [{id:int(text[i])}]\n",
    "        try:\n",
    "            s += [{'.':int(text[i+1])}]\n",
    "        except:\n",
    "            pass\n",
    "        id += 1\n",
    "    return s\n",
    "\n",
    "assert create_blocks_2('12345') == [{0:1}, {'.':2}, {1:3}, {'.':4}, {2:5}]\n",
    "assert create_blocks_2(test_text) == [{0:2}, {'.':3}, {1:3}, {'.':3}, {2:1},{'.':3}, {3:3},{'.':1},{4:2}, {'.':1},{5:4}, {'.':1},{6:4},{'.':1},{7:3},{'.':1},{8:4},{'.':0},{9:2}]\n"
   ]
  },
  {
   "cell_type": "code",
   "execution_count": 70,
   "metadata": {},
   "outputs": [],
   "source": [
    "def find_list_dots(individuel_blocks, char = '.'):\n",
    "    l = []\n",
    "    for index, el in enumerate(individuel_blocks):\n",
    "        if list(el.keys())[0] == char:\n",
    "            l += [{index: list(el.values())[0]}]\n",
    "    return l\n",
    "\n",
    "\n",
    "assert find_list_dots([{0:2}, {'.':3}, {1:3}, {'.':3}, {2:1},{'.':3}, {3:3},{'.':1}, {'.':1}]) == [{1:3}, {3:3}, {5:3}, {7:1}, {8:1}]"
   ]
  },
  {
   "cell_type": "code",
   "execution_count": 71,
   "metadata": {},
   "outputs": [],
   "source": [
    "def find_first_available_space(individuel_blocks, spaces_needed):\n",
    "    list_dots = find_list_dots(individuel_blocks)\n",
    "    id = -1\n",
    "    space_over = -1\n",
    "    for el in list_dots:\n",
    "        space_available = list(el.values())[0]\n",
    "        if space_available >= spaces_needed:\n",
    "            id = list(el.keys())[0]\n",
    "            space_over = space_available - spaces_needed\n",
    "            break\n",
    "            \n",
    "    return id, space_over\n",
    "\n",
    "assert find_first_available_space([{0:2}, {'.':3}, {1:3}, {'.':3}, {2:1},{'.':3}, {3:3},{'.':1},{4:2}, {'.':1},{5:4}, {'.':1},{6:4},{'.':1},{7:3},{'.':1},{8:4},{'.':0},{9:2}], 3) == (1,0)\n",
    "assert find_first_available_space([{0:2}, {'.':3}, {1:3}, {'.':3}, {2:1},{'.':3}, {3:3},{'.':1},{4:2}, {'.':1},{5:4}, {'.':1},{6:4},{'.':1},{7:3},{'.':1},{8:4},{'.':0},{9:2}], 1) == (1,2)\n",
    "assert find_first_available_space([{0:2}, {'.':3}, {1:3}, {'.':3}, {2:1},{'.':3}, {3:3},{'.':1},{4:2}, {'.':4},{5:4}, {'.':1},{6:4},{'.':1},{7:3},{'.':1},{8:4},{'.':0},{9:2}], 4) == (9,0)\n",
    "assert find_first_available_space([{0: 2}, {9: 2}, {'.': 1}, {1: 3}, {'.': 3}, {2: 1}, {'.': 3}, {3: 3}, {'.': 1}, {4: 2}, {'.': 1}, {5: 4}, {'.': 1}, {6: 4}, {'.': 1}, {7: 3}, {'.': 1}, {8: 4}, {'.': 0}, {'.': 2}],4) == (-1, -1)\n",
    "        \n",
    "     "
   ]
  },
  {
   "cell_type": "code",
   "execution_count": null,
   "metadata": {},
   "outputs": [],
   "source": [
    "def move_file_blocks_2(individuel_blocks):\n",
    "    list_id = individuel_blocks[::2] # alleen even indexen\n",
    "    for i in range(len(list_id)-1, -1, -1): # van achter naar voren\n",
    "        index_id = individuel_blocks.index(list_id[i])\n",
    "        spaces_needed = list(list_id[i].values())[0]\n",
    "        new_index_id, space_over = find_first_available_space(individuel_blocks[:index_id], spaces_needed)\n",
    "        if space_over == 0:\n",
    "            keep = individuel_blocks[new_index_id]\n",
    "            individuel_blocks[new_index_id] = individuel_blocks[index_id]\n",
    "            individuel_blocks[index_id] = keep\n",
    "        elif space_over < 0:\n",
    "            pass\n",
    "        elif space_over > 0:\n",
    "            individuel_blocks[new_index_id] = individuel_blocks[index_id]\n",
    "            individuel_blocks = individuel_blocks[:new_index_id+1] +  [{'.': space_over} ] + individuel_blocks[new_index_id+1:]    \n",
    "            individuel_blocks[index_id+1] = {'.': spaces_needed}\n",
    "\n",
    "    return individuel_blocks\n",
    "            \n",
    "\n",
    "assert move_file_blocks_2([{0:2}, {'.':3}, {1:3}, {'.':3}, {2:1},{'.':3}, {3:3},{'.':1},{4:2}, {'.':1},{5:4}, {'.':1},{6:4},{'.':1},{7:3},{'.':1},{8:4},{'.':0},{9:2}]) == [{0:2}, {9:2}, {2:1},{1:3},{7:3},{'.':1}, {4:2}, {'.':1}, {3:3},{'.':1}, {'.':2}, {'.':1}, {5:4},{'.':1},{6:4}, {'.':1},{'.':3},{'.':1},{8:4},{'.':0}, {'.':2}]"
   ]
  },
  {
   "cell_type": "code",
   "execution_count": 74,
   "metadata": {},
   "outputs": [],
   "source": [
    "def calculate_checksum_2(ordered_blocks):\n",
    "    sum = 0\n",
    "    index = 0\n",
    "    for i in range(len(ordered_blocks)):\n",
    "        if list(ordered_blocks[i].keys())[0] == '.':\n",
    "            index += list(ordered_blocks[i].values())[0] \n",
    "        else:\n",
    "            for j in range(list(ordered_blocks[i].values())[0] ):\n",
    "                sum += index  * list(ordered_blocks[i].keys())[0] \n",
    "                index += 1\n",
    "    return sum\n",
    "\n",
    "\n",
    "assert calculate_checksum_2([{0:2}, {9:2}, {2:1},{1:3},{7:3},{'.':1}, {4:2}, {'.':1}, {3:3},{'.':1}, {'.':2}, {'.':1}, {5:4},{'.':1},{6:4}, {'.':1},{'.':3},{'.':1},{8:4},{'.':0}, {'.':2}]) == 2858"
   ]
  },
  {
   "cell_type": "code",
   "execution_count": 77,
   "metadata": {},
   "outputs": [],
   "source": [
    "def calculate_filesystem_checksum_2(text):\n",
    "    individuel_blocks = create_blocks_2(text)\n",
    "    ordered_blocks = move_file_blocks_2(individuel_blocks)\n",
    "    checksum = calculate_checksum_2(ordered_blocks)\n",
    "\n",
    "    return checksum\n",
    "\n",
    "assert calculate_filesystem_checksum_2(test_text) == 2858"
   ]
  },
  {
   "cell_type": "code",
   "execution_count": 78,
   "metadata": {},
   "outputs": [
    {
     "data": {
      "text/plain": [
       "6381624803796"
      ]
     },
     "execution_count": 78,
     "metadata": {},
     "output_type": "execute_result"
    }
   ],
   "source": [
    "calculate_filesystem_checksum_2(text)"
   ]
  }
 ],
 "metadata": {
  "kernelspec": {
   "display_name": "sunshine",
   "language": "python",
   "name": "python3"
  },
  "language_info": {
   "codemirror_mode": {
    "name": "ipython",
    "version": 3
   },
   "file_extension": ".py",
   "mimetype": "text/x-python",
   "name": "python",
   "nbconvert_exporter": "python",
   "pygments_lexer": "ipython3",
   "version": "3.11.5"
  }
 },
 "nbformat": 4,
 "nbformat_minor": 2
}
