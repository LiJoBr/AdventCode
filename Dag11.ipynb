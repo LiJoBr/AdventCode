{
 "cells": [
  {
   "cell_type": "markdown",
   "metadata": {},
   "source": [
    "# Imports"
   ]
  },
  {
   "cell_type": "code",
   "execution_count": 1,
   "metadata": {},
   "outputs": [],
   "source": [
    "# from collections import defaultdict\n",
    "# from itertools import product\n",
    "# import numpy as np\n"
   ]
  },
  {
   "cell_type": "markdown",
   "metadata": {},
   "source": [
    "# Data"
   ]
  },
  {
   "cell_type": "code",
   "execution_count": 2,
   "metadata": {},
   "outputs": [],
   "source": [
    "bestand = '.\\data\\dag11.txt'\n",
    "bestand_test = '.\\data\\\\voorbeeld11.txt'\n",
    "\n",
    "with open(bestand, 'r') as file:\n",
    "    stones = file.read().split()\n",
    "    \n",
    "with open(bestand_test, 'r') as file:\n",
    "    test_stones = file.read().split()"
   ]
  },
  {
   "cell_type": "markdown",
   "metadata": {},
   "source": [
    "## Deel 1"
   ]
  },
  {
   "cell_type": "code",
   "execution_count": 3,
   "metadata": {},
   "outputs": [],
   "source": [
    "def rearrange(stones):\n",
    "    rearrange_stones = []\n",
    "    for stone in stones:\n",
    "        if stone == '0':\n",
    "            rearrange_stones.append('1')\n",
    "        else:\n",
    "            if len(stone)%2 == 0:\n",
    "                rearrange_stones.append(str(int(stone[:int(len(stone)/2)])))\n",
    "                rearrange_stones.append(str(int(stone[int(len(stone)/2):])))\n",
    "            else:\n",
    "                rearrange_stones.append(str(int(stone)*2024))\n",
    "    return rearrange_stones\n",
    "\n",
    "assert rearrange(['0', '1', '10', '99', '999']) == ['1',  '2024', '1', '0', '9', '9', '2021976']\n",
    "assert rearrange(['125', '17']) == ['253000', '1', '7']\n",
    "assert rearrange(['253000', '1', '7']) == ['253', '0', '2024', '14168']\n",
    "assert rearrange( ['253', '0', '2024', '14168']) == ['512072', '1', '20', '24', '28676032']"
   ]
  },
  {
   "cell_type": "code",
   "execution_count": 4,
   "metadata": {},
   "outputs": [],
   "source": [
    "def count_rearrange1(stones, n=25):\n",
    "    for i in range(n):\n",
    "        stones = rearrange(stones)\n",
    "    return len(stones)\n",
    "\n",
    "assert count_rearrange1(test_stones) == 55312"
   ]
  },
  {
   "cell_type": "code",
   "execution_count": null,
   "metadata": {},
   "outputs": [],
   "source": [
    "print(count_rearrange1(stones))\n"
   ]
  },
  {
   "cell_type": "markdown",
   "metadata": {},
   "source": [
    "## Deel 2"
   ]
  },
  {
   "cell_type": "code",
   "execution_count": null,
   "metadata": {},
   "outputs": [],
   "source": [
    "CAL = {}\n",
    "def count_rearrange(stones, n=25):\n",
    "    count = 0\n",
    "    for stone in stones:\n",
    "        k = int(stone)\n",
    "        if n == 1:\n",
    "            if stone == '0':\n",
    "                count += 1\n",
    "            elif len(stone)%2 == 0:\n",
    "                count += 2\n",
    "            else: \n",
    "                count += 1\n",
    "        else:\n",
    "            if k in CAL:\n",
    "                if n in CAL[k]:\n",
    "                    count = CAL[k][n]\n",
    "                    continue\n",
    "            \n",
    "            if stone == '0':\n",
    "                count += count_rearrange(['1'], n-1)\n",
    "            elif len(stone)%2 == 0:\n",
    "                stone1 = [str(int(stone[:int(len(stone)/2)]))]\n",
    "                stone2 = [str(int(stone[int(len(stone)/2):]))]\n",
    "                c1 = count_rearrange(stone1, n-1)\n",
    "                c2 = count_rearrange(stone2, n-1)\n",
    "                count += (c1+c2)\n",
    "            else:\n",
    "                count +=count_rearrange([str(int(stone)*2024)], n-1)\n",
    "        if k in CAL: \n",
    "            CAL[k][n]= count \n",
    "        else: \n",
    "            CAL[k] = {n:count}\n",
    "    return count\n",
    "\n",
    "\n",
    "\n",
    "assert count_rearrange(test_stones) == 55312\n",
    "assert count_rearrange(stones) == 191690\n",
    "\n",
    "count_rearrange(stones, 75)"
   ]
  }
 ],
 "metadata": {
  "kernelspec": {
   "display_name": "ab-riskmodel",
   "language": "python",
   "name": "python3"
  },
  "language_info": {
   "codemirror_mode": {
    "name": "ipython",
    "version": 3
   },
   "file_extension": ".py",
   "mimetype": "text/x-python",
   "name": "python",
   "nbconvert_exporter": "python",
   "pygments_lexer": "ipython3",
   "version": "3.11.10"
  }
 },
 "nbformat": 4,
 "nbformat_minor": 2
}
