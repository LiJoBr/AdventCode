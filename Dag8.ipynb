{
 "cells": [
  {
   "cell_type": "markdown",
   "metadata": {},
   "source": [
    "# Imports"
   ]
  },
  {
   "cell_type": "code",
   "execution_count": 1,
   "metadata": {},
   "outputs": [],
   "source": [
    "import pandas as pd\n",
    "import numpy as np"
   ]
  },
  {
   "cell_type": "markdown",
   "metadata": {},
   "source": [
    "# Data"
   ]
  },
  {
   "cell_type": "code",
   "execution_count": 2,
   "metadata": {},
   "outputs": [],
   "source": [
    "bestand = '.\\data\\dag8.txt'\n",
    "bestand_test = '.\\data\\\\voorbeeld8.txt'\n",
    "\n",
    "with open(bestand, 'r') as file:\n",
    "    data = (file\n",
    "            .read()\n",
    "            .splitlines()\n",
    "            )\n",
    "    \n",
    "with open(bestand_test, 'r') as file:\n",
    "    test_data = (file\n",
    "            .read()\n",
    "            .splitlines()\n",
    "            )\n"
   ]
  },
  {
   "cell_type": "markdown",
   "metadata": {},
   "source": [
    "# Dag 8.1"
   ]
  },
  {
   "cell_type": "code",
   "execution_count": 3,
   "metadata": {},
   "outputs": [],
   "source": [
    "def make_df(data):\n",
    "    df = (\n",
    "        pd.DataFrame(data)[0]\n",
    "        .str.split('', expand=True)\n",
    "        .replace('', np.nan)\n",
    "        .dropna(axis=1)\n",
    "        .reset_index(drop=True)\n",
    "        )\n",
    "    df.columns = range(df.columns.size)\n",
    "    return df\n",
    "\n",
    "#test\n",
    "assert make_df(['...', '...', '...']).equals(pd.DataFrame('.', index=np.arange(3), columns=np.arange(3)) )"
   ]
  },
  {
   "cell_type": "code",
   "execution_count": 4,
   "metadata": {},
   "outputs": [],
   "source": [
    "def find_unique_antennas_in_list_item(list_items):\n",
    "    return list(set(list_items))\n",
    "\n",
    "\n",
    "assert find_unique_antennas_in_list_item('.....0') == ['0', '.']"
   ]
  },
  {
   "cell_type": "code",
   "execution_count": 5,
   "metadata": {},
   "outputs": [],
   "source": [
    "def find_unique_sorts_of_antennas(data):\n",
    "    unique_list_items = set(data)\n",
    "    unique_sorts_of_antennas = []\n",
    "    for list_items in unique_list_items:\n",
    "        unique_sorts_of_antennas_in_this_list = find_unique_antennas_in_list_item(list_items)\n",
    "        unique_sorts_of_antennas = find_unique_antennas_in_list_item(unique_sorts_of_antennas_in_this_list+unique_sorts_of_antennas)\n",
    "    \n",
    "    return unique_sorts_of_antennas\n",
    "\n",
    "find_unique_sorts_of_antennas(['jdie', 'jdi9'])\n",
    "# #test\n",
    "assert find_unique_sorts_of_antennas(test_data).sort() == ['0', 'A', '.'].sort() \n",
    "assert find_unique_sorts_of_antennas(['jdie', 'jdi9']).sort()  == ['e', 'i', 'd', '9', 'j'].sort() "
   ]
  },
  {
   "cell_type": "code",
   "execution_count": 6,
   "metadata": {},
   "outputs": [],
   "source": [
    "def find_all_antenna_coordinates(df, antennatype):\n",
    "    coordinates_tuple = np.nonzero(df.isin([antennatype]))\n",
    "    list_antennas = []\n",
    "    for i in range(len(coordinates_tuple[0])):\n",
    "        list_antennas += [(coordinates_tuple[0][i], coordinates_tuple[1][i])]\n",
    "    return list_antennas    \n",
    "    \n",
    "\n",
    "#test\n",
    "df_test = pd.DataFrame('.', index=np.arange(9), columns=np.arange(9)) \n",
    "df_test.iloc[1,1] = 'A'\n",
    "df_test.iloc[4,4] = 'A'\n",
    "df_test.iloc[6,2] = 'A'\n",
    "df_test.iloc[7,2] = 'Z'\n",
    "assert find_all_antenna_coordinates(df_test, 'A') == [(1,1), (4,4), (6,2)]\n",
    "assert find_all_antenna_coordinates(df_test, 'Z') == [(7,2)]"
   ]
  },
  {
   "cell_type": "code",
   "execution_count": 13,
   "metadata": {},
   "outputs": [],
   "source": [
    "def coordinate_valid(row_index, col_index, size_df):\n",
    "    if (row_index < 0) | (col_index < 0) | (row_index >= size_df) | (col_index >= size_df):\n",
    "        return False\n",
    "    else:\n",
    "        return True   "
   ]
  },
  {
   "cell_type": "code",
   "execution_count": 15,
   "metadata": {},
   "outputs": [],
   "source": [
    "def find_coordinates_of_antinodes(combination_antenna, size_df):\n",
    "    coordinates_antinodes = []\n",
    "    coordinate_antenna_1 = combination_antenna[0]\n",
    "    coordinate_antenna_2 = combination_antenna[1]\n",
    "    row_index_direction = abs(coordinate_antenna_1[0] - coordinate_antenna_2[0])\n",
    "    col_index_direction = abs(coordinate_antenna_1[1] - coordinate_antenna_2[1])\n",
    "    \n",
    "    if (coordinate_antenna_1[0] >= coordinate_antenna_2[0]) & (coordinate_antenna_1[1] >= coordinate_antenna_2[1]):\n",
    "        row_coordinate_antinode_1 = coordinate_antenna_1[0] + row_index_direction\n",
    "        col_coordinate_antinode_1 = coordinate_antenna_1[1] + col_index_direction\n",
    "        \n",
    "        row_coordinate_antinode_2 = coordinate_antenna_2[0] - row_index_direction\n",
    "        col_coordinate_antinode_2 = coordinate_antenna_2[1] - col_index_direction\n",
    "\n",
    "    elif (coordinate_antenna_1[0] >= coordinate_antenna_2[0]) & (coordinate_antenna_1[1] < coordinate_antenna_2[1]):\n",
    "        row_coordinate_antinode_1 = coordinate_antenna_1[0] + row_index_direction\n",
    "        col_coordinate_antinode_1 = coordinate_antenna_1[1] - col_index_direction\n",
    "        \n",
    "        row_coordinate_antinode_2 = coordinate_antenna_2[0] - row_index_direction\n",
    "        col_coordinate_antinode_2 = coordinate_antenna_2[1] + col_index_direction\n",
    "\n",
    "    elif (coordinate_antenna_1[0] < coordinate_antenna_2[0]) & (coordinate_antenna_1[1] >= coordinate_antenna_2[1]):\n",
    "        row_coordinate_antinode_1 = coordinate_antenna_1[0] - row_index_direction\n",
    "        col_coordinate_antinode_1 = coordinate_antenna_1[1] + col_index_direction\n",
    "        \n",
    "        row_coordinate_antinode_2 = coordinate_antenna_2[0] + row_index_direction\n",
    "        col_coordinate_antinode_2 = coordinate_antenna_2[1] - col_index_direction\n",
    "    \n",
    "    elif (coordinate_antenna_1[0] < coordinate_antenna_2[0]) & (coordinate_antenna_1[1] < coordinate_antenna_2[1]):\n",
    "        row_coordinate_antinode_1 = coordinate_antenna_1[0] - row_index_direction\n",
    "        col_coordinate_antinode_1 = coordinate_antenna_1[1] - col_index_direction\n",
    "        \n",
    "        row_coordinate_antinode_2 = coordinate_antenna_2[0] + row_index_direction\n",
    "        col_coordinate_antinode_2 = coordinate_antenna_2[1] + col_index_direction\n",
    "    \n",
    "    \n",
    "    if coordinate_valid(row_coordinate_antinode_1,col_coordinate_antinode_1 , size_df):\n",
    "        coordinates_antinodes += [(row_coordinate_antinode_1, col_coordinate_antinode_1)]\n",
    "\n",
    "    if coordinate_valid(row_coordinate_antinode_2 ,col_coordinate_antinode_2, size_df ):\n",
    "        coordinates_antinodes += [(row_coordinate_antinode_2, col_coordinate_antinode_2)]\n",
    "    \n",
    "    return coordinates_antinodes\n",
    "\n",
    "assert find_coordinates_of_antinodes([(1,1), (4,4)], 9) == [(7,7)]\n",
    "assert find_coordinates_of_antinodes([(6,2), (4,4)], 9) == [(8,0), (2,6)]\n",
    "assert find_coordinates_of_antinodes([(2,1), (4,1)], 9) == [(0,1), (6,1)]\n",
    "assert find_coordinates_of_antinodes([(2,6), (4,4)], 9) == [(0,8), (6,2)]\n",
    "assert find_coordinates_of_antinodes([(2,2), (4,4)], 9) == [(0,0), (6,6)]\n",
    "assert find_coordinates_of_antinodes([(6,6), (4,4)], 9) == [(8,8), (2,2)]"
   ]
  },
  {
   "cell_type": "code",
   "execution_count": 44,
   "metadata": {},
   "outputs": [],
   "source": [
    "def add_new_antinodes_for_this_antennatype(df, antennatype, antinodes, part=1):\n",
    "    new_antinodes_add = antinodes.copy()\n",
    "    list_of_all_antenna_coordinates = find_all_antenna_coordinates(df, antennatype)\n",
    "    number_of_antinodes = len(list_of_all_antenna_coordinates)\n",
    "    for i in range(number_of_antinodes): \n",
    "        for j in range(i+1, number_of_antinodes):\n",
    "            combination_antenna = [list_of_all_antenna_coordinates[i], list_of_all_antenna_coordinates[j]]\n",
    "            if part == 1:\n",
    "                coordinates_of_antinodes = find_coordinates_of_antinodes(combination_antenna, df.shape[0])\n",
    "            else:\n",
    "                coordinates_of_antinodes = find_coordinates_of_antinodes_part2(combination_antenna, df.shape[0])\n",
    "                new_antinodes_add.iloc[list_of_all_antenna_coordinates[i][0]][list_of_all_antenna_coordinates[i][1]] = 'X'\n",
    "                new_antinodes_add.iloc[list_of_all_antenna_coordinates[j][0]][list_of_all_antenna_coordinates[j][1]] = 'X'\n",
    "            for coordinates in coordinates_of_antinodes:\n",
    "                new_antinodes_add.iloc[coordinates[0]][coordinates[1]] = 'X'\n",
    "    return new_antinodes_add\n",
    "    \n",
    "\n",
    "#test\n",
    "df_test = pd.DataFrame('.', index=np.arange(9), columns=np.arange(9)) \n",
    "df_test.iloc[1,1] = 'B'\n",
    "df_test.iloc[4,4] = 'B'\n",
    "df_test.iloc[6,2] = 'B'\n",
    "df_antinodes_test = pd.DataFrame('.', index=np.arange(9), columns=np.arange(9)) \n",
    "df_antinodes_test_start = df_antinodes_test.copy() \n",
    "df_antinodes_test.iloc[7,7] = 'X'\n",
    "df_antinodes_test.iloc[8,0] = 'X'\n",
    "df_antinodes_test.iloc[2,6] = 'X'\n",
    "assert add_new_antinodes_for_this_antennatype( df_test, 'B', df_antinodes_test_start).equals(df_antinodes_test)\n",
    "#test 2\n",
    "df_test = pd.DataFrame('.', index=np.arange(12), columns=np.arange(12)) \n",
    "df_test.iloc[5,6] = 'H'\n",
    "df_test.iloc[8,8] = 'H'\n",
    "df_test.iloc[9,9] = 'H'\n",
    "df_antinodes_test = pd.DataFrame('.', index=np.arange(12), columns=np.arange(12)) \n",
    "df_antinodes_test_start = df_antinodes_test.copy() \n",
    "df_antinodes_test.iloc[2,4] = 'X'\n",
    "df_antinodes_test.iloc[11,10] = 'X'\n",
    "df_antinodes_test.iloc[1,3] = 'X'\n",
    "df_antinodes_test.iloc[7,7] = 'X'\n",
    "df_antinodes_test.iloc[10,10] = 'X'\n",
    "assert add_new_antinodes_for_this_antennatype( df_test, 'H', df_antinodes_test_start).equals(df_antinodes_test)\n"
   ]
  },
  {
   "cell_type": "code",
   "execution_count": 45,
   "metadata": {},
   "outputs": [],
   "source": [
    "def count_all_antinodes(data):\n",
    "    df =  make_df(data)\n",
    "    sorts_of_antennas = find_unique_sorts_of_antennas(data)\n",
    "    sorts_of_antennas.remove('.')\n",
    "    antinodes = pd.DataFrame(columns=df.columns, index=df.index)\n",
    "    for antennatype in sorts_of_antennas:\n",
    "        antinodes = add_new_antinodes_for_this_antennatype(df, antennatype, antinodes)\n",
    "    number_of_antinodes = (antinodes == 'X').sum().sum()\n",
    "    return number_of_antinodes\n",
    "\n",
    "#test\n",
    "assert count_all_antinodes(test_data) == 14"
   ]
  },
  {
   "cell_type": "code",
   "execution_count": 46,
   "metadata": {},
   "outputs": [
    {
     "data": {
      "text/plain": [
       "320"
      ]
     },
     "execution_count": 46,
     "metadata": {},
     "output_type": "execute_result"
    }
   ],
   "source": [
    "count_all_antinodes(data)"
   ]
  },
  {
   "cell_type": "markdown",
   "metadata": {},
   "source": [
    "# Dag 8.2"
   ]
  },
  {
   "cell_type": "code",
   "execution_count": null,
   "metadata": {},
   "outputs": [],
   "source": [
    "def find_coordinates_of_antinodes_part2(combination_antenna, size_df):\n",
    "    coordinates_antinodes = []\n",
    "    coordinate_antenna_1 = combination_antenna[0]\n",
    "    coordinate_antenna_2 = combination_antenna[1]\n",
    "    row_index_direction = abs(coordinate_antenna_1[0] - coordinate_antenna_2[0])\n",
    "    col_index_direction = abs(coordinate_antenna_1[1] - coordinate_antenna_2[1])\n",
    "    \n",
    "    if (coordinate_antenna_1[0] >= coordinate_antenna_2[0]) & (coordinate_antenna_1[1] >= coordinate_antenna_2[1]):\n",
    "                \n",
    "        row_coordinate_antinode_1 = coordinate_antenna_1[0] + row_index_direction\n",
    "        col_coordinate_antinode_1 = coordinate_antenna_1[1] + col_index_direction\n",
    "        \n",
    "        row_coordinate_antinode_2 = coordinate_antenna_2[0] - row_index_direction\n",
    "        col_coordinate_antinode_2 = coordinate_antenna_2[1] - col_index_direction\n",
    "\n",
    "        while coordinate_valid(row_coordinate_antinode_1, col_coordinate_antinode_1, size_df):\n",
    "            coordinates_antinodes += [(row_coordinate_antinode_1, col_coordinate_antinode_1)]\n",
    "            row_coordinate_antinode_1 = row_coordinate_antinode_1 + row_index_direction\n",
    "            col_coordinate_antinode_1 = col_coordinate_antinode_1 + col_index_direction\n",
    "        \n",
    "        while coordinate_valid(row_coordinate_antinode_2, col_coordinate_antinode_2, size_df):\n",
    "            coordinates_antinodes += [(row_coordinate_antinode_2, col_coordinate_antinode_2)]  \n",
    "            row_coordinate_antinode_2 = row_coordinate_antinode_2 - row_index_direction\n",
    "            col_coordinate_antinode_2 = col_coordinate_antinode_2 - col_index_direction\n",
    "  \n",
    "\n",
    "    elif (coordinate_antenna_1[0] >= coordinate_antenna_2[0]) & (coordinate_antenna_1[1] < coordinate_antenna_2[1]):\n",
    "        row_coordinate_antinode_1 = coordinate_antenna_1[0] + row_index_direction\n",
    "        col_coordinate_antinode_1 = coordinate_antenna_1[1] - col_index_direction\n",
    "        \n",
    "        row_coordinate_antinode_2 = coordinate_antenna_2[0] - row_index_direction\n",
    "        col_coordinate_antinode_2 = coordinate_antenna_2[1] + col_index_direction\n",
    "\n",
    "        while coordinate_valid(row_coordinate_antinode_1, col_coordinate_antinode_1, size_df):\n",
    "            coordinates_antinodes += [(row_coordinate_antinode_1, col_coordinate_antinode_1)]\n",
    "            row_coordinate_antinode_1 = row_coordinate_antinode_1 + row_index_direction\n",
    "            col_coordinate_antinode_1 = col_coordinate_antinode_1 - col_index_direction\n",
    "\n",
    "        while coordinate_valid(row_coordinate_antinode_2, col_coordinate_antinode_2, size_df):\n",
    "            coordinates_antinodes += [(row_coordinate_antinode_2, col_coordinate_antinode_2)]\n",
    "            row_coordinate_antinode_2 = row_coordinate_antinode_2 - row_index_direction\n",
    "            col_coordinate_antinode_2 = col_coordinate_antinode_2 + col_index_direction\n",
    "\n",
    "    elif (coordinate_antenna_1[0] < coordinate_antenna_2[0]) & (coordinate_antenna_1[1] >= coordinate_antenna_2[1]):\n",
    "        row_coordinate_antinode_1 = coordinate_antenna_1[0] - row_index_direction\n",
    "        col_coordinate_antinode_1 = coordinate_antenna_1[1] + col_index_direction\n",
    "        \n",
    "        row_coordinate_antinode_2 = coordinate_antenna_2[0] + row_index_direction\n",
    "        col_coordinate_antinode_2 = coordinate_antenna_2[1] - col_index_direction\n",
    "\n",
    "        while coordinate_valid(row_coordinate_antinode_1, col_coordinate_antinode_1, size_df):\n",
    "            coordinates_antinodes += [(row_coordinate_antinode_1, col_coordinate_antinode_1)]\n",
    "            row_coordinate_antinode_1 = row_coordinate_antinode_1 - row_index_direction\n",
    "            col_coordinate_antinode_1 = col_coordinate_antinode_1  + col_index_direction\n",
    "\n",
    "        while coordinate_valid(row_coordinate_antinode_2, col_coordinate_antinode_2, size_df):\n",
    "            coordinates_antinodes += [(row_coordinate_antinode_2, col_coordinate_antinode_2)]\n",
    "            row_coordinate_antinode_2 = row_coordinate_antinode_2 + row_index_direction\n",
    "            col_coordinate_antinode_2 = col_coordinate_antinode_2 - col_index_direction\n",
    "        \n",
    "    \n",
    "    elif (coordinate_antenna_1[0] < coordinate_antenna_2[0]) & (coordinate_antenna_1[1] < coordinate_antenna_2[1]):\n",
    "        row_coordinate_antinode_1 = coordinate_antenna_1[0] - row_index_direction\n",
    "        col_coordinate_antinode_1 = coordinate_antenna_1[1] - col_index_direction\n",
    "        \n",
    "        row_coordinate_antinode_2 = coordinate_antenna_2[0] + row_index_direction\n",
    "        col_coordinate_antinode_2 = coordinate_antenna_2[1] + col_index_direction\n",
    "\n",
    "        while coordinate_valid(row_coordinate_antinode_1, col_coordinate_antinode_1, size_df):\n",
    "            coordinates_antinodes += [(row_coordinate_antinode_1, col_coordinate_antinode_1)]\n",
    "            row_coordinate_antinode_1 = row_coordinate_antinode_1 - row_index_direction\n",
    "            col_coordinate_antinode_1 = col_coordinate_antinode_1 - col_index_direction\n",
    "\n",
    "        while coordinate_valid(row_coordinate_antinode_2, col_coordinate_antinode_2, size_df):\n",
    "            coordinates_antinodes += [(row_coordinate_antinode_2, col_coordinate_antinode_2)]\n",
    "            row_coordinate_antinode_2 = row_coordinate_antinode_2 + row_index_direction\n",
    "            col_coordinate_antinode_2 = col_coordinate_antinode_2 + col_index_direction\n",
    "    \n",
    "    \n",
    "    return coordinates_antinodes"
   ]
  },
  {
   "cell_type": "code",
   "execution_count": 50,
   "metadata": {},
   "outputs": [],
   "source": [
    "def count_all_antinodes_part2(data):\n",
    "    df =  make_df(data)\n",
    "    sorts_of_antennas = find_unique_sorts_of_antennas(data)\n",
    "    sorts_of_antennas.remove('.')\n",
    "    antinodes = pd.DataFrame(columns=df.columns, index=df.index)\n",
    "    for antennatype in sorts_of_antennas:\n",
    "        antinodes = add_new_antinodes_for_this_antennatype(df, antennatype, antinodes, part=2)\n",
    "    number_of_antinodes = (antinodes == 'X').sum().sum()\n",
    "    return number_of_antinodes\n",
    "\n",
    "#test\n",
    "assert count_all_antinodes_part2(test_data) == 34"
   ]
  },
  {
   "cell_type": "code",
   "execution_count": 51,
   "metadata": {},
   "outputs": [
    {
     "data": {
      "text/plain": [
       "1157"
      ]
     },
     "execution_count": 51,
     "metadata": {},
     "output_type": "execute_result"
    }
   ],
   "source": [
    "count_all_antinodes_part2(data) "
   ]
  }
 ],
 "metadata": {
  "kernelspec": {
   "display_name": "sunshine",
   "language": "python",
   "name": "python3"
  },
  "language_info": {
   "codemirror_mode": {
    "name": "ipython",
    "version": 3
   },
   "file_extension": ".py",
   "mimetype": "text/x-python",
   "name": "python",
   "nbconvert_exporter": "python",
   "pygments_lexer": "ipython3",
   "version": "3.11.5"
  }
 },
 "nbformat": 4,
 "nbformat_minor": 2
}
