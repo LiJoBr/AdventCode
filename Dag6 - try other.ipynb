{
 "cells": [
  {
   "cell_type": "markdown",
   "metadata": {},
   "source": [
    "## Deze werkt wel maar geeft verkeerd antwoord bij 6.2"
   ]
  },
  {
   "cell_type": "markdown",
   "metadata": {},
   "source": [
    "# Imports"
   ]
  },
  {
   "cell_type": "code",
   "execution_count": 135,
   "metadata": {},
   "outputs": [],
   "source": [
    "import re\n",
    "import pandas as pd\n",
    "import numpy as np\n",
    "import time"
   ]
  },
  {
   "cell_type": "markdown",
   "metadata": {},
   "source": [
    "# Data"
   ]
  },
  {
   "cell_type": "code",
   "execution_count": 136,
   "metadata": {},
   "outputs": [],
   "source": [
    "bestand = r'.\\data\\dag6.txt'\n",
    "\n",
    "with open(bestand, 'r') as file:\n",
    "    data = (file\n",
    "            .read()\n",
    "             .splitlines()\n",
    "            )\n",
    "    \n",
    "df = (\n",
    "    pd.DataFrame(data)[0]\n",
    "    .str.split('', expand=True)\n",
    "    .replace('', np.nan)\n",
    "    .dropna(axis=1)\n",
    "    .reset_index(drop=True)\n",
    ")\n"
   ]
  },
  {
   "cell_type": "markdown",
   "metadata": {},
   "source": [
    "# Dag 6.1"
   ]
  },
  {
   "cell_type": "code",
   "execution_count": 137,
   "metadata": {},
   "outputs": [],
   "source": [
    "def find_initial_coordinate(df):\n",
    "    indeces = np.nonzero(df.isin(['^', 'v', '>', '<']))\n",
    "    row_index = indeces[0][0]\n",
    "    col_index = indeces[1][0]\n",
    "    inital_coordinates = (row_index, col_index)\n",
    "    return inital_coordinates"
   ]
  },
  {
   "cell_type": "code",
   "execution_count": 138,
   "metadata": {},
   "outputs": [],
   "source": [
    "def determine_look_direction(df, coordinates):\n",
    "    row_index = coordinates[0]\n",
    "    col_index = coordinates[1]\n",
    "    if df.iloc[row_index, col_index] == '^':\n",
    "        direction_looking = 'up'\n",
    "\n",
    "    elif df.iloc[row_index, col_index] == '>':\n",
    "        direction_looking = 'right'\n",
    "\n",
    "    elif df.iloc[row_index, col_index] == 'v':\n",
    "        direction_looking = 'down'\n",
    "\n",
    "    elif df.iloc[row_index, col_index] == '<':\n",
    "        direction_looking = 'left'\n",
    "\n",
    "    else:\n",
    "        raise Exception('coordinates are wrong, no looking position')\n",
    "    \n",
    "    new_df = df.copy()\n",
    "    new_df.iloc[row_index, col_index] = '.'\n",
    "\n",
    "    return new_df, direction_looking"
   ]
  },
  {
   "cell_type": "code",
   "execution_count": 139,
   "metadata": {},
   "outputs": [],
   "source": [
    "def found_the_escape(df, coordinates, direction_looking):\n",
    "    last_index_col = df.shape[1]-1\n",
    "    last_index_row = df.shape[0]-1\n",
    "    found_escape = False\n",
    "\n",
    "    if (coordinates[0]==0) & (direction_looking == 'up'):\n",
    "        found_escape = True\n",
    "    \n",
    "    if (coordinates[0]==last_index_row) & (direction_looking == 'down'):\n",
    "        found_escape = True\n",
    "\n",
    "    if (coordinates[1]==0) & (direction_looking == 'left'):\n",
    "        found_escape = True\n",
    "    \n",
    "    if (coordinates[1]==last_index_col) & (direction_looking == 'right'):\n",
    "        found_escape = True\n",
    "    \n",
    "    return found_escape\n",
    "    \n",
    "\n",
    "    \n",
    "\n"
   ]
  },
  {
   "cell_type": "code",
   "execution_count": 140,
   "metadata": {},
   "outputs": [],
   "source": [
    "def define_direction(direction_looking):\n",
    "    row_direction = 0\n",
    "    col_direction = 0\n",
    "    if direction_looking == 'up':\n",
    "        row_direction = -1\n",
    "    elif direction_looking == 'down':\n",
    "        row_direction = 1\n",
    "    elif direction_looking == 'right':\n",
    "        col_direction = 1\n",
    "    elif direction_looking == 'left':\n",
    "        col_direction = -1\n",
    "\n",
    "    return row_direction, col_direction"
   ]
  },
  {
   "cell_type": "code",
   "execution_count": 141,
   "metadata": {},
   "outputs": [
    {
     "data": {
      "text/plain": [
       "-1"
      ]
     },
     "execution_count": 141,
     "metadata": {},
     "output_type": "execute_result"
    }
   ],
   "source": [
    "max(df.iloc[:6, 4].str.find('X'))"
   ]
  },
  {
   "cell_type": "code",
   "execution_count": 142,
   "metadata": {},
   "outputs": [],
   "source": [
    "def walk_as_far_as_posible(\n",
    "        df, \n",
    "        standing_ad_cooridinates, \n",
    "        direction_looking, \n",
    "        visits_facing_up, \n",
    "        visits_facing_down, \n",
    "        visits_facing_right, \n",
    "        visits_facing_left, \n",
    "        visits):\n",
    "\n",
    "    in_loop = False\n",
    "\n",
    "    row_index = standing_ad_cooridinates[0]\n",
    "    col_index = standing_ad_cooridinates[1]\n",
    "\n",
    "    found_escape = False\n",
    "    while (found_escape == False) & (in_loop == False):\n",
    "        if direction_looking == 'up':\n",
    "            serie_to_walk = df.iloc[:row_index, col_index]\n",
    "            try:\n",
    "                first_stop = max(np.nonzero(serie_to_walk.isin([\"#\"]))[0])\n",
    "                if max(visits_facing_up.iloc[first_stop+1:row_index, col_index].str.find(\"X\")) > -1:\n",
    "                    in_loop = True\n",
    "                    break\n",
    "                visits_facing_up.iloc[first_stop+1:row_index, col_index] = 'X'\n",
    "                visits.iloc[first_stop+1:row_index, col_index] = 'X'\n",
    "                direction_looking = \"right\"\n",
    "                row_index = first_stop + 1\n",
    "            except: # no boundary\n",
    "                visits.iloc[:row_index, col_index] = 'X'\n",
    "                found_escape = True\n",
    "\n",
    "        if direction_looking == \"right\":\n",
    "            serie_to_walk = df.iloc[row_index, col_index:]\n",
    "            try:\n",
    "                first_stop = min(np.nonzero(serie_to_walk.isin([\"#\"]))[0]) + col_index\n",
    "                if max(visits_facing_right.iloc[row_index, col_index+1:first_stop].str.find(\"X\")) > -1:\n",
    "                    in_loop = True\n",
    "                    break\n",
    "                visits_facing_right.iloc[row_index, col_index:first_stop] = 'X'\n",
    "                visits.iloc[row_index, col_index:first_stop] = 'X'\n",
    "                direction_looking = \"down\"\n",
    "                col_index = first_stop - 1\n",
    "            except:\n",
    "                visits.iloc[row_index, col_index:] = 'X'\n",
    "                found_escape = True\n",
    "        \n",
    "        if direction_looking == \"down\":\n",
    "            serie_to_walk = df.iloc[row_index:, col_index]\n",
    "            try:\n",
    "                first_stop =  min(np.nonzero(serie_to_walk.isin([\"#\"]))[0]) + row_index\n",
    "                if max(visits_facing_down.iloc[row_index+1:first_stop, col_index].str.find(\"X\")) > -1:\n",
    "                    in_loop = True\n",
    "                    break\n",
    "                visits_facing_down.iloc[row_index:first_stop, col_index] = 'X'\n",
    "                visits.iloc[row_index:first_stop, col_index] = 'X'\n",
    "                direction_looking = \"left\"\n",
    "                row_index = first_stop - 1\n",
    "            except:\n",
    "                visits.iloc[row_index:, col_index] = 'X'\n",
    "                found_escape = True\n",
    "        \n",
    "        if direction_looking == \"left\":\n",
    "            serie_to_walk = df.iloc[row_index, :col_index]\n",
    "            try:\n",
    "                first_stop =  max(np.nonzero(serie_to_walk.isin([\"#\"]))[0]) \n",
    "                if max(visits_facing_left.iloc[row_index, first_stop+1:col_index].str.find(\"X\")) > -1:\n",
    "                    in_loop = True\n",
    "                    break\n",
    "                visits_facing_left.iloc[row_index, first_stop+1:col_index] = 'X'\n",
    "                visits.iloc[row_index, first_stop+1:col_index] = 'X'\n",
    "                direction_looking = \"up\"\n",
    "                col_index = first_stop + 1\n",
    "            except:\n",
    "                visits.iloc[row_index, :col_index] = 'X'\n",
    "                found_escape = True\n",
    "\n",
    "    return visits, in_loop\n",
    "\n"
   ]
  },
  {
   "cell_type": "code",
   "execution_count": 143,
   "metadata": {},
   "outputs": [],
   "source": [
    "def make_visits_including_facing(visits, direction_looking, coordinates):\n",
    "    \n",
    "    visits_facing_up = visits.copy()\n",
    "    visits_facing_down = visits.copy()\n",
    "    visits_facing_right = visits.copy()\n",
    "    visits_facing_left = visits.copy()\n",
    "    \n",
    "    if direction_looking == 'up':\n",
    "        visits_facing_up.iloc[coordinates[0], coordinates[1]] = 'X'\n",
    "    elif direction_looking == 'down':\n",
    "        visits_facing_down.iloc[coordinates[0], coordinates[1]]  = 'X'\n",
    "    elif direction_looking == 'right':\n",
    "        visits_facing_right.iloc[coordinates[0], coordinates[1]] = 'X'\n",
    "    elif direction_looking == 'left':\n",
    "        visits_facing_left.iloc[coordinates[0], coordinates[1]] = 'X'\n",
    "\n",
    "       \n",
    "    return visits_facing_up, visits_facing_down, visits_facing_right, visits_facing_left"
   ]
  },
  {
   "cell_type": "code",
   "execution_count": 144,
   "metadata": {},
   "outputs": [],
   "source": [
    "def walk_and_count(df):\n",
    "    standing_ad_cooridinates = find_initial_coordinate(df)\n",
    "    df, direction_looking = determine_look_direction(df, standing_ad_cooridinates)\n",
    "    visits = pd.DataFrame(columns=df.columns, index=df.index)\n",
    "    visits_facing_up, visits_facing_down, visits_facing_right, visits_facing_left = make_visits_including_facing(visits, direction_looking, standing_ad_cooridinates)\n",
    "    visits.iloc[standing_ad_cooridinates[0], standing_ad_cooridinates[1]] = 'X'\n",
    "\n",
    "    visits, in_loop = (\n",
    "        walk_as_far_as_posible(\n",
    "                df, \n",
    "                standing_ad_cooridinates, \n",
    "                direction_looking, \n",
    "                visits_facing_up, visits_facing_down, visits_facing_right, visits_facing_left,\n",
    "                visits\n",
    "                )\n",
    "    )\n",
    "    \n",
    "    if in_loop == False:\n",
    "        number_of_visit_places = (visits == 'X').sum().sum()\n",
    "    else: \n",
    "        number_of_visit_places = 0\n",
    "    return number_of_visit_places, in_loop, visits"
   ]
  },
  {
   "cell_type": "code",
   "execution_count": 145,
   "metadata": {},
   "outputs": [
    {
     "data": {
      "text/plain": [
       "5086"
      ]
     },
     "execution_count": 145,
     "metadata": {},
     "output_type": "execute_result"
    }
   ],
   "source": [
    "number_of_visit_places, in_loop, visits_part1 = walk_and_count(df)\n",
    "number_of_visit_places"
   ]
  },
  {
   "cell_type": "markdown",
   "metadata": {},
   "source": [
    "# Dag 6.2"
   ]
  },
  {
   "cell_type": "code",
   "execution_count": 146,
   "metadata": {},
   "outputs": [],
   "source": [
    "def make_new_data(df,row_index, col_index):\n",
    "    new_df = df.copy()\n",
    "    possible = True\n",
    "    if len(re.findall(\"[<>v^#]\", df.iloc[row_index, col_index]))>0:\n",
    "           possible = False\n",
    "    else: \n",
    "       new_df.iloc[row_index, col_index] = '#'\n",
    "    \n",
    "    return new_df, possible"
   ]
  },
  {
   "cell_type": "code",
   "execution_count": 147,
   "metadata": {},
   "outputs": [],
   "source": [
    "def count_possible_obstakels(data, visits_par1):\n",
    "    total_inloop = 0\n",
    "    list_of_visits = np.nonzero(visits_part1.isin([\"X\"]))\n",
    "    i = 0\n",
    "    for i in range(len(list_of_visits[0])):\n",
    "        row_index = list_of_visits[0][i]\n",
    "        col_index = list_of_visits[1][i]\n",
    "\n",
    "        new_df, possible = make_new_data(data, row_index, col_index)\n",
    "        if possible:\n",
    "            number_of_visits, in_loop, list_of_visits_ = walk_and_count(new_df)\n",
    "            if in_loop:\n",
    "                total_inloop += 1\n",
    "        \n",
    "    return total_inloop   "
   ]
  },
  {
   "cell_type": "code",
   "execution_count": null,
   "metadata": {},
   "outputs": [],
   "source": [
    "start_time = time.perf_counter()\n",
    "print(\"Answer: \", count_possible_obstakels(df, visits_part1))\n",
    "end_time = time.perf_counter()\n",
    "print(\"Elapsed time: \", round(end_time - start_time, 3))\n"
   ]
  },
  {
   "cell_type": "code",
   "execution_count": null,
   "metadata": {},
   "outputs": [
    {
     "ename": "SyntaxError",
     "evalue": "invalid syntax (1295878499.py, line 1)",
     "output_type": "error",
     "traceback": [
      "\u001b[1;36m  Cell \u001b[1;32mIn[134], line 1\u001b[1;36m\u001b[0m\n\u001b[1;33m    verkeerd antwoord\u001b[0m\n\u001b[1;37m             ^\u001b[0m\n\u001b[1;31mSyntaxError\u001b[0m\u001b[1;31m:\u001b[0m invalid syntax\n"
     ]
    }
   ],
   "source": [
    "## verkeerd antwoord"
   ]
  },
  {
   "cell_type": "code",
   "execution_count": null,
   "metadata": {},
   "outputs": [],
   "source": []
  }
 ],
 "metadata": {
  "kernelspec": {
   "display_name": "sunshine",
   "language": "python",
   "name": "python3"
  },
  "language_info": {
   "codemirror_mode": {
    "name": "ipython",
    "version": 3
   },
   "file_extension": ".py",
   "mimetype": "text/x-python",
   "name": "python",
   "nbconvert_exporter": "python",
   "pygments_lexer": "ipython3",
   "version": "3.11.5"
  }
 },
 "nbformat": 4,
 "nbformat_minor": 2
}
