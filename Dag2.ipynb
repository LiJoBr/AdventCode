{
 "cells": [
  {
   "cell_type": "markdown",
   "metadata": {},
   "source": [
    "# Imports"
   ]
  },
  {
   "cell_type": "code",
   "execution_count": 19,
   "metadata": {},
   "outputs": [],
   "source": [
    "import pandas as pd\n",
    "import numpy as np"
   ]
  },
  {
   "cell_type": "markdown",
   "metadata": {},
   "source": [
    "# Variabelen"
   ]
  },
  {
   "cell_type": "code",
   "execution_count": 20,
   "metadata": {},
   "outputs": [],
   "source": [
    "bestand = '.\\data\\dag2.csv'"
   ]
  },
  {
   "cell_type": "markdown",
   "metadata": {},
   "source": [
    "# Data"
   ]
  },
  {
   "cell_type": "code",
   "execution_count": 21,
   "metadata": {},
   "outputs": [],
   "source": [
    "data = pd.read_csv(bestand, header=None)"
   ]
  },
  {
   "cell_type": "code",
   "execution_count": 22,
   "metadata": {},
   "outputs": [],
   "source": [
    "data = (data\n",
    "        .astype('Int64')\n",
    ")"
   ]
  },
  {
   "cell_type": "markdown",
   "metadata": {},
   "source": [
    "## Dag 2.1"
   ]
  },
  {
   "cell_type": "code",
   "execution_count": 23,
   "metadata": {},
   "outputs": [],
   "source": [
    "def check_data(data: pd.DataFrame):\n",
    "    \"\"\"Check given dataframe. All numbers increasing of decreasing en no more than 3 abs difference\"\"\"\n",
    "\n",
    "    data_abs_diff = abs(\n",
    "            data\n",
    "            .diff(axis=1)\n",
    "            .fillna(0)\n",
    "            )\n",
    "\n",
    "    data_trans = data.transpose()\n",
    "\n",
    "    df_check = pd.DataFrame()\n",
    "    #check stijgen en dalen\n",
    "    df_check[\"increase\"] = data_trans.apply(lambda s: s.dropna().is_monotonic_increasing)\n",
    "    df_check[\"decrease\"] = data_trans.apply(lambda s: s.dropna().is_monotonic_decreasing)\n",
    "    df_check[\"increase_or_decrease\"] = df_check.any(axis=1)\n",
    "    df_check = df_check.drop(columns=[\"increase\", \"decrease\"])\n",
    "\n",
    "    #Maar is_monotonic_.. neemt ook gelijkblijvende cijfers mee als stijging of daling, die eruit halen:\n",
    "    df_check[\"no_constant\"] = ~(data.diff(axis=1) == 0).any(axis=1)\n",
    "    df_check[\"increase_or_decrease\"] = df_check.all(axis=1)\n",
    "    df_check = df_check.drop(columns=[\"no_constant\"])\n",
    "\n",
    "    #Niets meer dan 3 verschil:\n",
    "    df_check[\"no_diff_gt_3\"] = ~data_abs_diff.ge(4).any(axis=1)\n",
    "    df_check[\"all_satisfy\"] = df_check.all(axis=1)\n",
    "\n",
    "    return df_check"
   ]
  },
  {
   "cell_type": "code",
   "execution_count": 24,
   "metadata": {},
   "outputs": [
    {
     "name": "stdout",
     "output_type": "stream",
     "text": [
      "Totaal aantal dat voldoet: \n",
      "279\n"
     ]
    }
   ],
   "source": [
    "df_check_21 = check_data(data)\n",
    "#uitkomst\n",
    "print(\"Totaal aantal dat voldoet: \")\n",
    "print(df_check_21[\"all_satisfy\"].sum())"
   ]
  },
  {
   "cell_type": "markdown",
   "metadata": {},
   "source": [
    "## Dag 2.2"
   ]
  },
  {
   "cell_type": "code",
   "execution_count": 25,
   "metadata": {},
   "outputs": [],
   "source": [
    "df_check = df_check_21.copy()"
   ]
  },
  {
   "cell_type": "code",
   "execution_count": 26,
   "metadata": {},
   "outputs": [],
   "source": [
    "for col in data.columns:\n",
    "    data_without_col = data.drop(columns=col)\n",
    "    df_check[col] = check_data(data_without_col)[\"all_satisfy\"]"
   ]
  },
  {
   "cell_type": "code",
   "execution_count": 27,
   "metadata": {},
   "outputs": [],
   "source": [
    "df_check[\"at_least_one_option\"] = (df_check\n",
    "                                   .drop(columns=[\"increase_or_decrease\",\"no_diff_gt_3\"])\n",
    "                                   .any(axis=1)\n",
    ")"
   ]
  },
  {
   "cell_type": "code",
   "execution_count": 28,
   "metadata": {},
   "outputs": [
    {
     "name": "stdout",
     "output_type": "stream",
     "text": [
      "Totaal aantal dat voldoet als ergens 1 getal wordt weggelaten: \n",
      "343\n"
     ]
    }
   ],
   "source": [
    "print(\"Totaal aantal dat voldoet als ergens 1 getal wordt weggelaten: \")\n",
    "print(df_check[\"at_least_one_option\"].sum())"
   ]
  }
 ],
 "metadata": {
  "kernelspec": {
   "display_name": "sunshine",
   "language": "python",
   "name": "python3"
  },
  "language_info": {
   "codemirror_mode": {
    "name": "ipython",
    "version": 3
   },
   "file_extension": ".py",
   "mimetype": "text/x-python",
   "name": "python",
   "nbconvert_exporter": "python",
   "pygments_lexer": "ipython3",
   "version": "3.11.5"
  }
 },
 "nbformat": 4,
 "nbformat_minor": 2
}
