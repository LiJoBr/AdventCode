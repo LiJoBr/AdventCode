{
 "cells": [
  {
   "cell_type": "markdown",
   "metadata": {},
   "source": [
    "# Imports"
   ]
  },
  {
   "cell_type": "code",
   "execution_count": 27,
   "metadata": {},
   "outputs": [],
   "source": [
    "import math"
   ]
  },
  {
   "cell_type": "markdown",
   "metadata": {},
   "source": [
    "# Data"
   ]
  },
  {
   "cell_type": "code",
   "execution_count": 28,
   "metadata": {},
   "outputs": [],
   "source": [
    "bestanda = r'.\\data\\dag5a.txt'\n",
    "bestandb = r'.\\data\\dag5b.txt'\n",
    "\n",
    "with open(bestanda, 'r') as file:\n",
    "    rules = (file\n",
    "            .read()\n",
    "            .splitlines()\n",
    "            )\n",
    "    \n",
    "with open(bestandb, 'r') as file:\n",
    "    updates = (file\n",
    "            .read()\n",
    "            .splitlines()\n",
    "            )\n"
   ]
  },
  {
   "cell_type": "markdown",
   "metadata": {},
   "source": [
    "# Dag 5.1"
   ]
  },
  {
   "cell_type": "code",
   "execution_count": 29,
   "metadata": {},
   "outputs": [],
   "source": [
    "def check_rule(update, rule):\n",
    "    rule = rule.split('|')\n",
    "    rule_number1 = int(rule[0])\n",
    "    rule_number2 = int(rule[1])\n",
    "\n",
    "    number1_present = False\n",
    "    number2_present_before1 = False\n",
    "    update_valid_for_this_rule = True\n",
    "\n",
    "    for number in update:\n",
    "        if (number == rule_number2) & (number1_present == False):\n",
    "            number2_present_before1 = True\n",
    "        if number == rule_number1:\n",
    "            number1_present = True\n",
    "    \n",
    "    if (number1_present == True) & (number2_present_before1 == True):\n",
    "        update_valid_for_this_rule = False\n",
    "\n",
    "    return update_valid_for_this_rule\n",
    "\n",
    "\n"
   ]
  },
  {
   "cell_type": "code",
   "execution_count": 30,
   "metadata": {},
   "outputs": [],
   "source": [
    "def set_type_update(update):\n",
    "    update = (\n",
    "        update\n",
    "        .replace(\"'\",\"\")\n",
    "        .split(\",\")\n",
    "    )\n",
    "    update = [int(item) for item in update]\n",
    "    return update"
   ]
  },
  {
   "cell_type": "code",
   "execution_count": 31,
   "metadata": {},
   "outputs": [],
   "source": [
    "def check_update(update, rules):\n",
    "    valid_update = True\n",
    "    for rule in rules:\n",
    "        if check_rule(update, rule) == False:\n",
    "            valid_update = False\n",
    "            break\n",
    "    return valid_update"
   ]
  },
  {
   "cell_type": "code",
   "execution_count": 32,
   "metadata": {},
   "outputs": [],
   "source": [
    "def find_middle_number(update):\n",
    "    middle_index = math.ceil(len(update)/2) -1  # aangenomen dat er altijd oneven pagina nummers zijn; -1 vanwege index start at 0\n",
    "    return update[middle_index]"
   ]
  },
  {
   "cell_type": "code",
   "execution_count": 33,
   "metadata": {},
   "outputs": [],
   "source": [
    "def check_all_updates(updates, rules):\n",
    "    sum_valid_middle_numbers = 0\n",
    "    for update in updates:\n",
    "        update = set_type_update(update)\n",
    "        update_valid = check_update(update, rules)\n",
    "        middle_number = find_middle_number(update)\n",
    "        if update_valid:\n",
    "            sum_valid_middle_numbers += middle_number\n",
    "    return sum_valid_middle_numbers"
   ]
  },
  {
   "cell_type": "code",
   "execution_count": 34,
   "metadata": {},
   "outputs": [
    {
     "data": {
      "text/plain": [
       "4905"
      ]
     },
     "execution_count": 34,
     "metadata": {},
     "output_type": "execute_result"
    }
   ],
   "source": [
    "check_all_updates(updates, rules)"
   ]
  },
  {
   "cell_type": "markdown",
   "metadata": {},
   "source": [
    "# Dag 5.2"
   ]
  },
  {
   "cell_type": "code",
   "execution_count": 35,
   "metadata": {},
   "outputs": [],
   "source": [
    "def switch_numbers(update, rule):\n",
    "    rule = rule.split('|')\n",
    "    rule_number1 = int(rule[0])\n",
    "    rule_number2 = int(rule[1])\n",
    "\n",
    "    index_number1 = update.index(rule_number1)\n",
    "    index_number2 = update.index(rule_number2)\n",
    "\n",
    "    update[index_number1] = rule_number2\n",
    "    update[index_number2] = rule_number1\n",
    "\n",
    "    return update\n",
    "\n",
    "    \n",
    "    "
   ]
  },
  {
   "cell_type": "code",
   "execution_count": 36,
   "metadata": {},
   "outputs": [],
   "source": [
    "def correct_update_for_first_wrong_rule(update, rules):\n",
    "    for rule in rules:\n",
    "        if check_rule(update, rule) == False:\n",
    "            update_corrected = switch_numbers(update, rule)\n",
    "            break\n",
    "    return update_corrected\n",
    "\n",
    "def correct_update(update, rules):\n",
    "    while check_update(update, rules) == False:\n",
    "        update = correct_update_for_first_wrong_rule(update, rules)\n",
    "    return update"
   ]
  },
  {
   "cell_type": "code",
   "execution_count": 37,
   "metadata": {},
   "outputs": [],
   "source": [
    "def find_incorrecet_update_replace_sum(updates, rules):\n",
    "    sum_corrected_middle_numbers = 0\n",
    "    for update in updates:\n",
    "        update = set_type_update(update)\n",
    "        update_valid = check_update(update, rules)\n",
    "        if update_valid == False:\n",
    "            update_cor = correct_update(update, rules)\n",
    "            middle_number = find_middle_number(update_cor)\n",
    "            sum_corrected_middle_numbers += middle_number\n",
    "    return sum_corrected_middle_numbers"
   ]
  },
  {
   "cell_type": "code",
   "execution_count": 38,
   "metadata": {},
   "outputs": [
    {
     "data": {
      "text/plain": [
       "6204"
      ]
     },
     "execution_count": 38,
     "metadata": {},
     "output_type": "execute_result"
    }
   ],
   "source": [
    "find_incorrecet_update_replace_sum(updates, rules)"
   ]
  }
 ],
 "metadata": {
  "kernelspec": {
   "display_name": "vpdag",
   "language": "python",
   "name": "python3"
  },
  "language_info": {
   "codemirror_mode": {
    "name": "ipython",
    "version": 3
   },
   "file_extension": ".py",
   "mimetype": "text/x-python",
   "name": "python",
   "nbconvert_exporter": "python",
   "pygments_lexer": "ipython3",
   "version": "3.12.7"
  }
 },
 "nbformat": 4,
 "nbformat_minor": 2
}
